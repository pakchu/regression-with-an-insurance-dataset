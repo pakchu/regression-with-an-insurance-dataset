{
 "cells": [
  {
   "cell_type": "code",
   "execution_count": 1,
   "id": "fa3b6b66",
   "metadata": {
    "execution": {
     "iopub.execute_input": "2024-12-04T13:57:46.232353Z",
     "iopub.status.busy": "2024-12-04T13:57:46.232032Z",
     "iopub.status.idle": "2024-12-04T13:57:48.523402Z",
     "shell.execute_reply": "2024-12-04T13:57:48.522754Z"
    },
    "papermill": {
     "duration": 2.297393,
     "end_time": "2024-12-04T13:57:48.525478",
     "exception": false,
     "start_time": "2024-12-04T13:57:46.228085",
     "status": "completed"
    },
    "tags": []
   },
   "outputs": [],
   "source": [
    "import pandas as pd\n",
    "import numpy as np\n",
    "from catboost import CatBoostRegressor\n",
    "from sklearn.model_selection import KFold\n",
    "from sklearn.metrics import mean_squared_log_error\n",
    "from sklearn.preprocessing import OrdinalEncoder\n",
    "import warnings\n",
    "warnings.filterwarnings(\"ignore\")\n",
    "\n",
    "import joblib"
   ]
  },
  {
   "cell_type": "code",
   "execution_count": 14,
   "id": "dc4257b8",
   "metadata": {
    "execution": {
     "iopub.execute_input": "2024-12-04T13:57:48.531811Z",
     "iopub.status.busy": "2024-12-04T13:57:48.531401Z",
     "iopub.status.idle": "2024-12-04T13:57:57.210643Z",
     "shell.execute_reply": "2024-12-04T13:57:57.209886Z"
    },
    "papermill": {
     "duration": 8.684449,
     "end_time": "2024-12-04T13:57:57.212675",
     "exception": false,
     "start_time": "2024-12-04T13:57:48.528226",
     "status": "completed"
    },
    "tags": []
   },
   "outputs": [],
   "source": [
    "train = pd.read_csv(\"../kaggle/input/playground-series-s4e12/train.csv\")\n",
    "test = pd.read_csv(\"../kaggle/input/playground-series-s4e12/test.csv\")\n",
    "\n",
    "sample = pd.read_csv('../kaggle/input/playground-series-s4e12/sample_submission.csv')\n",
    "original = pd.read_csv('../kaggle/input/Insurance Premium Prediction Dataset.csv')\n",
    "\n",
    "train.drop('id', axis=1, inplace=True)\n",
    "test.drop('id', axis=1, inplace=True) \n",
    "original = original[train.columns]\n",
    "original.drop('Premium Amount', axis=1, inplace=True)"
   ]
  },
  {
   "cell_type": "code",
   "execution_count": 15,
   "id": "ffb13a7b",
   "metadata": {
    "execution": {
     "iopub.execute_input": "2024-12-04T13:57:57.218782Z",
     "iopub.status.busy": "2024-12-04T13:57:57.218232Z",
     "iopub.status.idle": "2024-12-04T13:57:57.225093Z",
     "shell.execute_reply": "2024-12-04T13:57:57.224279Z"
    },
    "papermill": {
     "duration": 0.011545,
     "end_time": "2024-12-04T13:57:57.226736",
     "exception": false,
     "start_time": "2024-12-04T13:57:57.215191",
     "status": "completed"
    },
    "tags": []
   },
   "outputs": [],
   "source": [
    "\n",
    "def date(Df):\n",
    "    Df['Policy Start Date'] = (pd.to_datetime(Df['Policy Start Date'])-pd.to_datetime('1/1/1970')).dt.days\n",
    "    Df['Policy Start Date'] = pd.qcut(Df['Policy Start Date'], q=50, duplicates='raise')\n",
    "    Df['Policy Start Date'] = OrdinalEncoder().fit_transform(Df[['Policy Start Date']])\n",
    "    return Df"
   ]
  },
  {
   "cell_type": "code",
   "execution_count": 16,
   "id": "7a6ea394",
   "metadata": {
    "execution": {
     "iopub.execute_input": "2024-12-04T13:57:57.232014Z",
     "iopub.status.busy": "2024-12-04T13:57:57.231790Z",
     "iopub.status.idle": "2024-12-04T13:58:21.476556Z",
     "shell.execute_reply": "2024-12-04T13:58:21.475525Z"
    },
    "papermill": {
     "duration": 24.251025,
     "end_time": "2024-12-04T13:58:21.479906",
     "exception": false,
     "start_time": "2024-12-04T13:57:57.228881",
     "status": "completed"
    },
    "tags": []
   },
   "outputs": [],
   "source": [
    "train = date(train)\n",
    "test = date(test)\n",
    "original = date(original)\n",
    "# cat_c = [col for col in train.columns if train[col].dtype == 'object']\n",
    "\n",
    "# def update(df):\n",
    "#     global cat_c\n",
    "\n",
    "#     for c in cat_c:\n",
    "#         df[c] = df[c].fillna('None').astype('category')\n",
    "                \n",
    "#     return df\n",
    "\n",
    "# train = update(train)\n",
    "# test = update(test)\n",
    "\n",
    "columns_to_convert = train.columns.difference(['Premium Amount'])\n",
    "\n",
    "train[columns_to_convert] = train[columns_to_convert].fillna('None').astype('string')\n",
    "test[columns_to_convert] = test[columns_to_convert].fillna('None').astype('string')\n",
    "original[columns_to_convert] = original[columns_to_convert].fillna('None').astype('string')"
   ]
  },
  {
   "cell_type": "code",
   "execution_count": 17,
   "id": "194cb46f",
   "metadata": {
    "execution": {
     "iopub.execute_input": "2024-12-04T13:58:21.486763Z",
     "iopub.status.busy": "2024-12-04T13:58:21.486326Z",
     "iopub.status.idle": "2024-12-04T13:58:22.443952Z",
     "shell.execute_reply": "2024-12-04T13:58:22.442993Z"
    },
    "papermill": {
     "duration": 0.963331,
     "end_time": "2024-12-04T13:58:22.446118",
     "exception": false,
     "start_time": "2024-12-04T13:58:21.482787",
     "status": "completed"
    },
    "tags": []
   },
   "outputs": [],
   "source": [
    "X = train.drop('Premium Amount', axis=1)  \n",
    "y = train['Premium Amount']\n",
    "cat_features = X.columns.values"
   ]
  },
  {
   "cell_type": "code",
   "execution_count": 18,
   "id": "17a8c8e8",
   "metadata": {},
   "outputs": [
    {
     "data": {
      "text/plain": [
       "array(['Age', 'Gender', 'Annual Income', 'Marital Status',\n",
       "       'Number of Dependents', 'Education Level', 'Occupation',\n",
       "       'Health Score', 'Location', 'Policy Type', 'Previous Claims',\n",
       "       'Vehicle Age', 'Credit Score', 'Insurance Duration',\n",
       "       'Policy Start Date', 'Customer Feedback', 'Smoking Status',\n",
       "       'Exercise Frequency', 'Property Type'], dtype=object)"
      ]
     },
     "execution_count": 18,
     "metadata": {},
     "output_type": "execute_result"
    }
   ],
   "source": [
    "cat_features"
   ]
  },
  {
   "cell_type": "code",
   "execution_count": 19,
   "id": "12ce1489",
   "metadata": {
    "execution": {
     "iopub.execute_input": "2024-12-04T13:58:22.452213Z",
     "iopub.status.busy": "2024-12-04T13:58:22.451627Z",
     "iopub.status.idle": "2024-12-04T13:58:22.455485Z",
     "shell.execute_reply": "2024-12-04T13:58:22.454818Z"
    },
    "papermill": {
     "duration": 0.00853,
     "end_time": "2024-12-04T13:58:22.457072",
     "exception": false,
     "start_time": "2024-12-04T13:58:22.448542",
     "status": "completed"
    },
    "tags": []
   },
   "outputs": [],
   "source": [
    "def rmsle(y_true, y_pred):\n",
    "    return np.sqrt(mean_squared_log_error(y_true, y_pred))"
   ]
  },
  {
   "cell_type": "code",
   "execution_count": 20,
   "id": "c1a3fe67",
   "metadata": {},
   "outputs": [
    {
     "data": {
      "text/plain": [
       "Age                     0\n",
       "Gender                  0\n",
       "Annual Income           0\n",
       "Marital Status          0\n",
       "Number of Dependents    0\n",
       "Education Level         0\n",
       "Occupation              0\n",
       "Health Score            0\n",
       "Location                0\n",
       "Policy Type             0\n",
       "Previous Claims         0\n",
       "Vehicle Age             0\n",
       "Credit Score            0\n",
       "Insurance Duration      0\n",
       "Policy Start Date       0\n",
       "Customer Feedback       0\n",
       "Smoking Status          0\n",
       "Exercise Frequency      0\n",
       "Property Type           0\n",
       "dtype: int64"
      ]
     },
     "execution_count": 20,
     "metadata": {},
     "output_type": "execute_result"
    }
   ],
   "source": [
    "original.isna().sum()"
   ]
  },
  {
   "cell_type": "code",
   "execution_count": 21,
   "id": "ac7e1bc6",
   "metadata": {
    "execution": {
     "iopub.execute_input": "2024-12-04T13:58:22.463459Z",
     "iopub.status.busy": "2024-12-04T13:58:22.463236Z",
     "iopub.status.idle": "2024-12-04T13:58:22.647297Z",
     "shell.execute_reply": "2024-12-04T13:58:22.646621Z"
    },
    "papermill": {
     "duration": 0.189737,
     "end_time": "2024-12-04T13:58:22.649001",
     "exception": false,
     "start_time": "2024-12-04T13:58:22.459264",
     "status": "completed"
    },
    "tags": []
   },
   "outputs": [],
   "source": [
    "def train():\n",
    "    kf = KFold(n_splits=5, shuffle=True, random_state=42)\n",
    "    oof = np.zeros(len(X))\n",
    "    original_preds = np.zeros((len(original), 5))\n",
    "    models = []\n",
    "\n",
    "    for fold, (train_idx, valid_idx) in enumerate(kf.split(X)):\n",
    "        print(f\"Fold {fold + 1}\")\n",
    "        X_train, X_valid = X.iloc[train_idx], X.iloc[valid_idx]\n",
    "        y_train, y_valid = y.iloc[train_idx], y.iloc[valid_idx]\n",
    "\n",
    "        model = CatBoostRegressor(\n",
    "            iterations=1000,\n",
    "            learning_rate=0.1,\n",
    "            depth=6,\n",
    "            eval_metric=\"RMSE\",\n",
    "            random_seed=42,\n",
    "            verbose=200,\n",
    "            task_type='GPU',\n",
    "            devices='0:1',\n",
    "            l2_leaf_reg =  0.7,\n",
    "        )\n",
    "        \n",
    "        model.fit(X_train,\n",
    "                  y_train,\n",
    "                  eval_set=(X_valid, y_valid), \n",
    "                  early_stopping_rounds=300,\n",
    "                  cat_features=cat_features,\n",
    "                 )\n",
    "        models.append(model)\n",
    "        oof[valid_idx] = np.maximum(0, model.predict(X_valid))\n",
    "        fold_rmsle = rmsle(y_valid, oof[valid_idx])\n",
    "        original_preds[:, fold] = np.maximum(0, model.predict(original))\n",
    "        print(f\"Fold {fold + 1} RMSLE: {fold_rmsle}\")\n",
    "        \n",
    "    return models, oof, original_preds"
   ]
  },
  {
   "cell_type": "code",
   "execution_count": 22,
   "id": "5d1630f7",
   "metadata": {
    "execution": {
     "iopub.execute_input": "2024-12-04T13:58:22.654413Z",
     "iopub.status.busy": "2024-12-04T13:58:22.654154Z",
     "iopub.status.idle": "2024-12-04T14:10:40.706101Z",
     "shell.execute_reply": "2024-12-04T14:10:40.705156Z"
    },
    "papermill": {
     "duration": 738.056676,
     "end_time": "2024-12-04T14:10:40.707893",
     "exception": false,
     "start_time": "2024-12-04T13:58:22.651217",
     "status": "completed"
    },
    "tags": []
   },
   "outputs": [
    {
     "name": "stdout",
     "output_type": "stream",
     "text": [
      "Fold 1\n",
      "0:\tlearn: 862.9632891\ttest: 861.8774521\tbest: 861.8774521 (0)\ttotal: 79.2ms\tremaining: 1m 19s\n",
      "200:\tlearn: 843.7475464\ttest: 839.3776285\tbest: 839.3776285 (200)\ttotal: 17.1s\tremaining: 1m 8s\n",
      "400:\tlearn: 842.5148083\ttest: 838.9211205\tbest: 838.9211205 (400)\ttotal: 37.8s\tremaining: 56.5s\n",
      "600:\tlearn: 841.4715441\ttest: 838.7599431\tbest: 838.7562805 (570)\ttotal: 59.2s\tremaining: 39.3s\n",
      "800:\tlearn: 840.5079252\ttest: 838.6329244\tbest: 838.6249062 (773)\ttotal: 1m 18s\tremaining: 19.6s\n",
      "999:\tlearn: 839.6006873\ttest: 838.6039040\tbest: 838.6025608 (944)\ttotal: 1m 38s\tremaining: 0us\n",
      "bestTest = 838.6025608\n",
      "bestIteration = 944\n",
      "Shrink model to first 945 iterations.\n",
      "Fold 1 RMSLE: 1.1429401744870396\n",
      "Fold 2\n",
      "0:\tlearn: 863.2659796\ttest: 861.1944970\tbest: 861.1944970 (0)\ttotal: 83.7ms\tremaining: 1m 23s\n",
      "200:\tlearn: 844.0976070\ttest: 838.2295196\tbest: 838.2287866 (199)\ttotal: 17.9s\tremaining: 1m 11s\n",
      "400:\tlearn: 842.7794827\ttest: 837.6406536\tbest: 837.6384124 (389)\ttotal: 37s\tremaining: 55.3s\n",
      "600:\tlearn: 841.7117695\ttest: 837.4086760\tbest: 837.4086760 (600)\ttotal: 56.1s\tremaining: 37.2s\n",
      "800:\tlearn: 840.7763574\ttest: 837.2286983\tbest: 837.2269045 (773)\ttotal: 1m 15s\tremaining: 18.8s\n",
      "999:\tlearn: 839.8932250\ttest: 837.1532307\tbest: 837.1506620 (996)\ttotal: 1m 35s\tremaining: 0us\n",
      "bestTest = 837.150662\n",
      "bestIteration = 996\n",
      "Shrink model to first 997 iterations.\n",
      "Fold 2 RMSLE: 1.1414602261079385\n",
      "Fold 3\n",
      "0:\tlearn: 862.6007039\ttest: 864.1917812\tbest: 864.1917812 (0)\ttotal: 101ms\tremaining: 1m 40s\n",
      "200:\tlearn: 843.1237916\ttest: 841.8424999\tbest: 841.8424999 (200)\ttotal: 18.5s\tremaining: 1m 13s\n",
      "400:\tlearn: 841.8510956\ttest: 841.3410806\tbest: 841.3410400 (396)\ttotal: 37.3s\tremaining: 55.8s\n",
      "600:\tlearn: 840.8988309\ttest: 841.1124773\tbest: 841.1124773 (600)\ttotal: 56.5s\tremaining: 37.5s\n",
      "800:\tlearn: 839.9903492\ttest: 840.9948648\tbest: 840.9930790 (790)\ttotal: 1m 16s\tremaining: 19s\n",
      "999:\tlearn: 839.0914604\ttest: 840.9229013\tbest: 840.9229013 (999)\ttotal: 1m 35s\tremaining: 0us\n",
      "bestTest = 840.9229013\n",
      "bestIteration = 999\n",
      "Fold 3 RMSLE: 1.1395228679903553\n",
      "Fold 4\n",
      "0:\tlearn: 862.8884109\ttest: 862.1305603\tbest: 862.1305603 (0)\ttotal: 84.6ms\tremaining: 1m 24s\n",
      "200:\tlearn: 843.8693864\ttest: 839.1475954\tbest: 839.1475954 (200)\ttotal: 17.7s\tremaining: 1m 10s\n",
      "400:\tlearn: 842.6419709\ttest: 838.6201034\tbest: 838.6198185 (379)\ttotal: 37.2s\tremaining: 55.6s\n",
      "600:\tlearn: 841.5486524\ttest: 838.2992306\tbest: 838.2992306 (600)\ttotal: 56.8s\tremaining: 37.7s\n",
      "800:\tlearn: 840.6182157\ttest: 838.1639159\tbest: 838.1624905 (798)\ttotal: 1m 16s\tremaining: 19s\n",
      "999:\tlearn: 839.7335349\ttest: 838.0812829\tbest: 838.0812015 (998)\ttotal: 1m 35s\tremaining: 0us\n",
      "bestTest = 838.0812015\n",
      "bestIteration = 998\n",
      "Shrink model to first 999 iterations.\n",
      "Fold 4 RMSLE: 1.1422809294069838\n",
      "Fold 5\n",
      "0:\tlearn: 862.8920105\ttest: 863.1047609\tbest: 863.1047609 (0)\ttotal: 81.4ms\tremaining: 1m 21s\n",
      "200:\tlearn: 843.7905484\ttest: 840.2431445\tbest: 840.2405852 (198)\ttotal: 18.4s\tremaining: 1m 13s\n",
      "400:\tlearn: 842.4345064\ttest: 839.6808130\tbest: 839.6805285 (399)\ttotal: 37.7s\tremaining: 56.3s\n",
      "600:\tlearn: 841.4341028\ttest: 839.5018510\tbest: 839.5018510 (600)\ttotal: 57.4s\tremaining: 38.1s\n",
      "800:\tlearn: 840.5296514\ttest: 839.3731553\tbest: 839.3730740 (792)\ttotal: 1m 17s\tremaining: 19.2s\n",
      "999:\tlearn: 839.6351208\ttest: 839.2778305\tbest: 839.2768951 (998)\ttotal: 1m 36s\tremaining: 0us\n",
      "bestTest = 839.2768951\n",
      "bestIteration = 998\n",
      "Shrink model to first 999 iterations.\n",
      "Fold 5 RMSLE: 1.1428251760343788\n"
     ]
    }
   ],
   "source": [
    "models,oof, original_preds = train()"
   ]
  },
  {
   "cell_type": "code",
   "execution_count": 26,
   "id": "d7b78913",
   "metadata": {},
   "outputs": [
    {
     "data": {
      "text/plain": [
       "['non_log_original_preds.pkl']"
      ]
     },
     "execution_count": 26,
     "metadata": {},
     "output_type": "execute_result"
    }
   ],
   "source": [
    "joblib.dump(original_preds, 'non_log_original_preds.pkl')"
   ]
  },
  {
   "cell_type": "code",
   "execution_count": 9,
   "id": "cadbf3e1",
   "metadata": {
    "execution": {
     "iopub.execute_input": "2024-12-04T14:10:40.716883Z",
     "iopub.status.busy": "2024-12-04T14:10:40.716568Z",
     "iopub.status.idle": "2024-12-04T14:10:40.735851Z",
     "shell.execute_reply": "2024-12-04T14:10:40.734920Z"
    },
    "papermill": {
     "duration": 0.025623,
     "end_time": "2024-12-04T14:10:40.737624",
     "exception": false,
     "start_time": "2024-12-04T14:10:40.712001",
     "status": "completed"
    },
    "tags": []
   },
   "outputs": [
    {
     "name": "stdout",
     "output_type": "stream",
     "text": [
      "1.1408728857820265\n"
     ]
    }
   ],
   "source": [
    "print(rmsle(y, oof))"
   ]
  },
  {
   "cell_type": "code",
   "execution_count": 45,
   "id": "66966d4e",
   "metadata": {
    "execution": {
     "iopub.execute_input": "2024-12-04T14:10:40.746811Z",
     "iopub.status.busy": "2024-12-04T14:10:40.746252Z",
     "iopub.status.idle": "2024-12-04T14:12:14.408725Z",
     "shell.execute_reply": "2024-12-04T14:12:14.407815Z"
    },
    "papermill": {
     "duration": 93.672309,
     "end_time": "2024-12-04T14:12:14.413895",
     "exception": false,
     "start_time": "2024-12-04T14:10:40.741586",
     "status": "completed"
    },
    "tags": []
   },
   "outputs": [
    {
     "data": {
      "text/plain": [
       "['cat_non_loged_simpler_date.pkl']"
      ]
     },
     "execution_count": 45,
     "metadata": {},
     "output_type": "execute_result"
    }
   ],
   "source": [
    "test_predictions = np.zeros(len(test))\n",
    "\n",
    "for model in models:\n",
    "    test_predictions += np.maximum(0, model.predict(test)) / len(models)\n",
    "\n",
    "\n",
    "sample['Premium Amount'] = test_predictions\n",
    "sample.to_csv('submission.csv', index = False)\n",
    "\n",
    "joblib.dump([oof,test_predictions],\"cat_non_loged_simpler_date.pkl\")"
   ]
  },
  {
   "cell_type": "code",
   "execution_count": 46,
   "id": "0cdbe447",
   "metadata": {},
   "outputs": [],
   "source": [
    "non_log_oof, non_log_test = joblib.load(\n",
    "    '../kaggle/input/cat_non_loged_origin.pkl'\n",
    ")"
   ]
  },
  {
   "cell_type": "code",
   "execution_count": 50,
   "id": "98dd474f",
   "metadata": {},
   "outputs": [
    {
     "data": {
      "text/plain": [
       "<matplotlib.legend.Legend at 0x2859473a1b0>"
      ]
     },
     "execution_count": 50,
     "metadata": {},
     "output_type": "execute_result"
    },
    {
     "data": {
      "image/png": "[encoded data removed]",
      "text/plain": [
       "<Figure size 640x480 with 1 Axes>"
      ]
     },
     "metadata": {},
     "output_type": "display_data"
    }
   ],
   "source": [
    "import matplotlib.pyplot as plt\n",
    "m=pd.Series(np.hstack([oof, test_predictions]))#.to_pickle('cat_non_loged.pkl')\n",
    "o=pd.Series(np.hstack([non_log_oof, non_log_test]))#.to_pickle('cat_non_loged_origin.pkl')\n",
    "m.hist(bins=300)\n",
    "o.hist(bins=300)\n",
    "plt.legend(['new','old'])   "
   ]
  },
  {
   "cell_type": "code",
   "execution_count": 48,
   "id": "f31ecebe",
   "metadata": {},
   "outputs": [],
   "source": [
    "import winsound\n",
    "frequency = 2500  # Set Frequency To 2500 Hertz\n",
    "duration = 1000  # Set Duration To 1000 ms == 1 second\n",
    "winsound.Beep(frequency, duration)"
   ]
  },
  {
   "cell_type": "code",
   "execution_count": null,
   "id": "b1208592",
   "metadata": {},
   "outputs": [],
   "source": []
  }
 ],
 "metadata": {
  "kaggle": {
   "accelerator": "gpu",
   "dataSources": [
    {
     "databundleVersionId": 10305135,
     "sourceId": 84896,
     "sourceType": "competition"
    }
   ],
   "dockerImageVersionId": 30787,
   "isGpuEnabled": true,
   "isInternetEnabled": true,
   "language": "python",
   "sourceType": "notebook"
  },
  "kernelspec": {
   "display_name": ".venv",
   "language": "python",
   "name": "python3"
  },
  "language_info": {
   "codemirror_mode": {
    "name": "ipython",
    "version": 3
   },
   "file_extension": ".py",
   "mimetype": "text/x-python",
   "name": "python",
   "nbconvert_exporter": "python",
   "pygments_lexer": "ipython3",
   "version": "3.12.5"
  },
  "papermill": {
   "default_parameters": {},
   "duration": 873.0156,
   "end_time": "2024-12-04T14:12:16.840947",
   "environment_variables": {},
   "exception": null,
   "input_path": "__notebook__.ipynb",
   "output_path": "__notebook__.ipynb",
   "parameters": {},
   "start_time": "2024-12-04T13:57:43.825347",
   "version": "2.6.0"
  }
 },
 "nbformat": 4,
 "nbformat_minor": 5
}
