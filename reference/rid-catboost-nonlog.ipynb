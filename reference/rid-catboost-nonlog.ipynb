{
 "cells": [
  {
   "cell_type": "code",
   "execution_count": 1,
   "id": "fa3b6b66",
   "metadata": {
    "execution": {
     "iopub.execute_input": "2024-12-04T13:57:46.232353Z",
     "iopub.status.busy": "2024-12-04T13:57:46.232032Z",
     "iopub.status.idle": "2024-12-04T13:57:48.523402Z",
     "shell.execute_reply": "2024-12-04T13:57:48.522754Z"
    },
    "papermill": {
     "duration": 2.297393,
     "end_time": "2024-12-04T13:57:48.525478",
     "exception": false,
     "start_time": "2024-12-04T13:57:46.228085",
     "status": "completed"
    },
    "tags": []
   },
   "outputs": [],
   "source": [
    "import pandas as pd\n",
    "import numpy as np\n",
    "from catboost import CatBoostRegressor\n",
    "from sklearn.model_selection import KFold\n",
    "from sklearn.metrics import mean_squared_log_error\n",
    "\n",
    "import warnings\n",
    "warnings.filterwarnings(\"ignore\")\n",
    "\n",
    "import joblib"
   ]
  },
  {
   "cell_type": "code",
   "execution_count": 2,
   "id": "dc4257b8",
   "metadata": {
    "execution": {
     "iopub.execute_input": "2024-12-04T13:57:48.531811Z",
     "iopub.status.busy": "2024-12-04T13:57:48.531401Z",
     "iopub.status.idle": "2024-12-04T13:57:57.210643Z",
     "shell.execute_reply": "2024-12-04T13:57:57.209886Z"
    },
    "papermill": {
     "duration": 8.684449,
     "end_time": "2024-12-04T13:57:57.212675",
     "exception": false,
     "start_time": "2024-12-04T13:57:48.528226",
     "status": "completed"
    },
    "tags": []
   },
   "outputs": [],
   "source": [
    "train = pd.read_csv(\"../kaggle/input/playground-series-s4e12/train.csv\")\n",
    "test = pd.read_csv(\"../kaggle/input/playground-series-s4e12/test.csv\")\n",
    "\n",
    "sample = pd.read_csv('../kaggle/input/playground-series-s4e12/sample_submission.csv')\n",
    "\n",
    "train.drop('id', axis=1, inplace=True)\n",
    "test.drop('id', axis=1, inplace=True) "
   ]
  },
  {
   "cell_type": "code",
   "execution_count": 3,
   "id": "ffb13a7b",
   "metadata": {
    "execution": {
     "iopub.execute_input": "2024-12-04T13:57:57.218782Z",
     "iopub.status.busy": "2024-12-04T13:57:57.218232Z",
     "iopub.status.idle": "2024-12-04T13:57:57.225093Z",
     "shell.execute_reply": "2024-12-04T13:57:57.224279Z"
    },
    "papermill": {
     "duration": 0.011545,
     "end_time": "2024-12-04T13:57:57.226736",
     "exception": false,
     "start_time": "2024-12-04T13:57:57.215191",
     "status": "completed"
    },
    "tags": []
   },
   "outputs": [],
   "source": [
    "def date(Df):\n",
    "\n",
    "    Df['Policy Start Date'] = pd.to_datetime(Df['Policy Start Date'])\n",
    "    Df['Year'] = Df['Policy Start Date'].dt.year\n",
    "    Df['Day'] = Df['Policy Start Date'].dt.day\n",
    "    Df['Month'] = Df['Policy Start Date'].dt.month\n",
    "    Df['Month_name'] = Df['Policy Start Date'].dt.month_name()\n",
    "    Df['Day_of_week'] = Df['Policy Start Date'].dt.day_name()\n",
    "    Df['Week'] = Df['Policy Start Date'].dt.isocalendar().week\n",
    "    Df['Year_sin'] = np.sin(2 * np.pi * Df['Year'])\n",
    "    Df['Year_cos'] = np.cos(2 * np.pi * Df['Year'])\n",
    "    Df['Month_sin'] = np.sin(2 * np.pi * Df['Month'] / 12) \n",
    "    Df['Month_cos'] = np.cos(2 * np.pi * Df['Month'] / 12)\n",
    "    Df['Day_sin'] = np.sin(2 * np.pi * Df['Day'] / 31)  \n",
    "    Df['Day_cos'] = np.cos(2 * np.pi * Df['Day'] / 31)\n",
    "    Df['Group']=(Df['Year']-2020)*48+Df['Month']*4+Df['Day']//7\n",
    "    \n",
    "    Df.drop('Policy Start Date', axis=1, inplace=True)\n",
    "\n",
    "    return Df"
   ]
  },
  {
   "cell_type": "code",
   "execution_count": 4,
   "id": "7a6ea394",
   "metadata": {
    "execution": {
     "iopub.execute_input": "2024-12-04T13:57:57.232014Z",
     "iopub.status.busy": "2024-12-04T13:57:57.231790Z",
     "iopub.status.idle": "2024-12-04T13:58:21.476556Z",
     "shell.execute_reply": "2024-12-04T13:58:21.475525Z"
    },
    "papermill": {
     "duration": 24.251025,
     "end_time": "2024-12-04T13:58:21.479906",
     "exception": false,
     "start_time": "2024-12-04T13:57:57.228881",
     "status": "completed"
    },
    "tags": []
   },
   "outputs": [],
   "source": [
    "train = date(train)\n",
    "test = date(test)\n",
    "\n",
    "# cat_c = [col for col in train.columns if train[col].dtype == 'object']\n",
    "\n",
    "# def update(df):\n",
    "#     global cat_c\n",
    "\n",
    "#     for c in cat_c:\n",
    "#         df[c] = df[c].fillna('None').astype('category')\n",
    "                \n",
    "#     return df\n",
    "\n",
    "# train = update(train)\n",
    "# test = update(test)\n",
    "\n",
    "columns_to_convert = train.columns.difference(['Premium Amount'])\n",
    "\n",
    "train[columns_to_convert] = train[columns_to_convert].fillna('None').astype('string')\n",
    "test[columns_to_convert] = test[columns_to_convert].fillna('None').astype('string')"
   ]
  },
  {
   "cell_type": "code",
   "execution_count": 5,
   "id": "194cb46f",
   "metadata": {
    "execution": {
     "iopub.execute_input": "2024-12-04T13:58:21.486763Z",
     "iopub.status.busy": "2024-12-04T13:58:21.486326Z",
     "iopub.status.idle": "2024-12-04T13:58:22.443952Z",
     "shell.execute_reply": "2024-12-04T13:58:22.442993Z"
    },
    "papermill": {
     "duration": 0.963331,
     "end_time": "2024-12-04T13:58:22.446118",
     "exception": false,
     "start_time": "2024-12-04T13:58:21.482787",
     "status": "completed"
    },
    "tags": []
   },
   "outputs": [],
   "source": [
    "X = train.drop('Premium Amount', axis=1)  \n",
    "y = train['Premium Amount']\n",
    "cat_features = X.columns.values"
   ]
  },
  {
   "cell_type": "code",
   "execution_count": 6,
   "id": "17a8c8e8",
   "metadata": {},
   "outputs": [
    {
     "data": {
      "text/plain": [
       "array(['Age', 'Gender', 'Annual Income', 'Marital Status',\n",
       "       'Number of Dependents', 'Education Level', 'Occupation',\n",
       "       'Health Score', 'Location', 'Policy Type', 'Previous Claims',\n",
       "       'Vehicle Age', 'Credit Score', 'Insurance Duration',\n",
       "       'Customer Feedback', 'Smoking Status', 'Exercise Frequency',\n",
       "       'Property Type', 'Year', 'Day', 'Month', 'Month_name',\n",
       "       'Day_of_week', 'Week', 'Year_sin', 'Year_cos', 'Month_sin',\n",
       "       'Month_cos', 'Day_sin', 'Day_cos', 'Group'], dtype=object)"
      ]
     },
     "execution_count": 6,
     "metadata": {},
     "output_type": "execute_result"
    }
   ],
   "source": [
    "cat_features"
   ]
  },
  {
   "cell_type": "code",
   "execution_count": 7,
   "id": "12ce1489",
   "metadata": {
    "execution": {
     "iopub.execute_input": "2024-12-04T13:58:22.452213Z",
     "iopub.status.busy": "2024-12-04T13:58:22.451627Z",
     "iopub.status.idle": "2024-12-04T13:58:22.455485Z",
     "shell.execute_reply": "2024-12-04T13:58:22.454818Z"
    },
    "papermill": {
     "duration": 0.00853,
     "end_time": "2024-12-04T13:58:22.457072",
     "exception": false,
     "start_time": "2024-12-04T13:58:22.448542",
     "status": "completed"
    },
    "tags": []
   },
   "outputs": [],
   "source": [
    "def rmsle(y_true, y_pred):\n",
    "    return np.sqrt(mean_squared_log_error(y_true, y_pred))"
   ]
  },
  {
   "cell_type": "code",
   "execution_count": 8,
   "id": "ac7e1bc6",
   "metadata": {
    "execution": {
     "iopub.execute_input": "2024-12-04T13:58:22.463459Z",
     "iopub.status.busy": "2024-12-04T13:58:22.463236Z",
     "iopub.status.idle": "2024-12-04T13:58:22.647297Z",
     "shell.execute_reply": "2024-12-04T13:58:22.646621Z"
    },
    "papermill": {
     "duration": 0.189737,
     "end_time": "2024-12-04T13:58:22.649001",
     "exception": false,
     "start_time": "2024-12-04T13:58:22.459264",
     "status": "completed"
    },
    "tags": []
   },
   "outputs": [],
   "source": [
    "def train():\n",
    "    kf = KFold(n_splits=5, shuffle=True, random_state=42)\n",
    "    oof = np.zeros(len(X))\n",
    "    models = []\n",
    "\n",
    "    for fold, (train_idx, valid_idx) in enumerate(kf.split(X)):\n",
    "        print(f\"Fold {fold + 1}\")\n",
    "        X_train, X_valid = X.iloc[train_idx], X.iloc[valid_idx]\n",
    "        y_train, y_valid = y.iloc[train_idx], y.iloc[valid_idx]\n",
    "\n",
    "        model = CatBoostRegressor(\n",
    "            iterations=1000,\n",
    "            learning_rate=0.1,\n",
    "            depth=6,\n",
    "            eval_metric=\"RMSE\",\n",
    "            random_seed=42,\n",
    "            verbose=200,\n",
    "            task_type='GPU',\n",
    "            l2_leaf_reg =  0.7,\n",
    "        )\n",
    "        \n",
    "        model.fit(X_train,\n",
    "                  y_train,\n",
    "                  eval_set=(X_valid, y_valid), \n",
    "                  early_stopping_rounds=300,\n",
    "                  cat_features=cat_features,\n",
    "                 )\n",
    "        models.append(model)\n",
    "        oof[valid_idx] = np.maximum(0, model.predict(X_valid))\n",
    "        fold_rmsle = rmsle(y_valid, oof[valid_idx])\n",
    "        print(f\"Fold {fold + 1} RMSLE: {fold_rmsle}\")\n",
    "        \n",
    "    return models, oof"
   ]
  },
  {
   "cell_type": "code",
   "execution_count": 9,
   "id": "5d1630f7",
   "metadata": {
    "execution": {
     "iopub.execute_input": "2024-12-04T13:58:22.654413Z",
     "iopub.status.busy": "2024-12-04T13:58:22.654154Z",
     "iopub.status.idle": "2024-12-04T14:10:40.706101Z",
     "shell.execute_reply": "2024-12-04T14:10:40.705156Z"
    },
    "papermill": {
     "duration": 738.056676,
     "end_time": "2024-12-04T14:10:40.707893",
     "exception": false,
     "start_time": "2024-12-04T13:58:22.651217",
     "status": "completed"
    },
    "tags": []
   },
   "outputs": [
    {
     "name": "stdout",
     "output_type": "stream",
     "text": [
      "Fold 1\n",
      "0:\tlearn: 863.0919080\ttest: 862.0243288\tbest: 862.0243288 (0)\ttotal: 7.58s\tremaining: 2h 6m 11s\n",
      "200:\tlearn: 843.7871100\ttest: 839.4356962\tbest: 839.4356962 (200)\ttotal: 2m 30s\tremaining: 9m 59s\n",
      "400:\tlearn: 842.4902566\ttest: 838.9332859\tbest: 838.9325128 (398)\ttotal: 11m 36s\tremaining: 17m 20s\n",
      "600:\tlearn: 841.4690697\ttest: 838.7485484\tbest: 838.7438684 (584)\ttotal: 15m 57s\tremaining: 10m 35s\n",
      "800:\tlearn: 840.4436771\ttest: 838.6231561\tbest: 838.6173764 (755)\ttotal: 18m 51s\tremaining: 4m 41s\n",
      "999:\tlearn: 839.5975163\ttest: 838.5951122\tbest: 838.5946237 (993)\ttotal: 19m 32s\tremaining: 0us\n",
      "bestTest = 838.5946237\n",
      "bestIteration = 993\n",
      "Shrink model to first 994 iterations.\n",
      "Fold 1 RMSLE: 1.1429558641333812\n",
      "Fold 2\n",
      "0:\tlearn: 863.4064924\ttest: 861.3107382\tbest: 861.3107382 (0)\ttotal: 121ms\tremaining: 2m\n",
      "200:\tlearn: 843.9066388\ttest: 838.1817935\tbest: 838.1817935 (198)\ttotal: 25.4s\tremaining: 1m 40s\n",
      "400:\tlearn: 842.5181304\ttest: 837.6399201\tbest: 837.6399201 (400)\ttotal: 55.3s\tremaining: 1m 22s\n",
      "600:\tlearn: 841.4618087\ttest: 837.3904558\tbest: 837.3900482 (598)\ttotal: 1m 24s\tremaining: 56.4s\n",
      "800:\tlearn: 840.6146830\ttest: 837.3518130\tbest: 837.3412959 (789)\ttotal: 1m 54s\tremaining: 28.5s\n",
      "999:\tlearn: 839.7466640\ttest: 837.3103555\tbest: 837.3015094 (930)\ttotal: 2m 24s\tremaining: 0us\n",
      "bestTest = 837.3015094\n",
      "bestIteration = 930\n",
      "Shrink model to first 931 iterations.\n",
      "Fold 2 RMSLE: 1.1412013193798682\n",
      "Fold 3\n",
      "0:\tlearn: 862.5738353\ttest: 864.1665025\tbest: 864.1665025 (0)\ttotal: 136ms\tremaining: 2m 16s\n",
      "200:\tlearn: 843.0963023\ttest: 841.8520282\tbest: 841.8520282 (199)\ttotal: 27.7s\tremaining: 1m 50s\n",
      "400:\tlearn: 841.6967245\ttest: 841.2690249\tbest: 841.2684974 (398)\ttotal: 57.1s\tremaining: 1m 25s\n",
      "600:\tlearn: 840.7868721\ttest: 841.1536256\tbest: 841.1533010 (599)\ttotal: 1m 27s\tremaining: 58.3s\n",
      "800:\tlearn: 839.8525432\ttest: 841.0795247\tbest: 841.0769274 (797)\ttotal: 1m 57s\tremaining: 29.2s\n",
      "999:\tlearn: 838.9599758\ttest: 841.0005470\tbest: 840.9987612 (975)\ttotal: 2m 26s\tremaining: 0us\n",
      "bestTest = 840.9987612\n",
      "bestIteration = 975\n",
      "Shrink model to first 976 iterations.\n",
      "Fold 3 RMSLE: 1.140030692516819\n",
      "Fold 4\n",
      "0:\tlearn: 863.0082209\ttest: 862.2828170\tbest: 862.2828170 (0)\ttotal: 133ms\tremaining: 2m 13s\n",
      "200:\tlearn: 843.7449169\ttest: 839.1233114\tbest: 839.1220911 (199)\ttotal: 26.8s\tremaining: 1m 46s\n",
      "400:\tlearn: 842.4284693\ttest: 838.5317352\tbest: 838.5317352 (400)\ttotal: 55.5s\tremaining: 1m 22s\n",
      "600:\tlearn: 841.3483020\ttest: 838.2825363\tbest: 838.2825363 (600)\ttotal: 1m 24s\tremaining: 56.1s\n",
      "800:\tlearn: 840.4481040\ttest: 838.1727122\tbest: 838.1691692 (794)\ttotal: 1m 53s\tremaining: 28.3s\n",
      "999:\tlearn: 839.5160816\ttest: 838.1077557\tbest: 838.0997732 (974)\ttotal: 2m 22s\tremaining: 0us\n",
      "bestTest = 838.0997732\n",
      "bestIteration = 974\n",
      "Shrink model to first 975 iterations.\n",
      "Fold 4 RMSLE: 1.1429992107865499\n",
      "Fold 5\n",
      "0:\tlearn: 862.8642016\ttest: 863.0825351\tbest: 863.0825351 (0)\ttotal: 135ms\tremaining: 2m 15s\n",
      "200:\tlearn: 843.7671666\ttest: 840.2798670\tbest: 840.2786484 (199)\ttotal: 27s\tremaining: 1m 47s\n",
      "400:\tlearn: 842.4175294\ttest: 839.7413799\tbest: 839.7407295 (397)\ttotal: 55.6s\tremaining: 1m 22s\n",
      "600:\tlearn: 841.3651383\ttest: 839.5395004\tbest: 839.5395004 (600)\ttotal: 1m 24s\tremaining: 56.3s\n",
      "800:\tlearn: 840.4832743\ttest: 839.4564337\tbest: 839.4527335 (793)\ttotal: 1m 53s\tremaining: 28.3s\n",
      "999:\tlearn: 839.5795468\ttest: 839.3969442\tbest: 839.3954803 (994)\ttotal: 2m 23s\tremaining: 0us\n",
      "bestTest = 839.3954803\n",
      "bestIteration = 994\n",
      "Shrink model to first 995 iterations.\n",
      "Fold 5 RMSLE: 1.1420122931719892\n"
     ]
    }
   ],
   "source": [
    "models,oof = train()"
   ]
  },
  {
   "cell_type": "code",
   "execution_count": 10,
   "id": "cadbf3e1",
   "metadata": {
    "execution": {
     "iopub.execute_input": "2024-12-04T14:10:40.716883Z",
     "iopub.status.busy": "2024-12-04T14:10:40.716568Z",
     "iopub.status.idle": "2024-12-04T14:10:40.735851Z",
     "shell.execute_reply": "2024-12-04T14:10:40.734920Z"
    },
    "papermill": {
     "duration": 0.025623,
     "end_time": "2024-12-04T14:10:40.737624",
     "exception": false,
     "start_time": "2024-12-04T14:10:40.712001",
     "status": "completed"
    },
    "tags": []
   },
   "outputs": [
    {
     "name": "stdout",
     "output_type": "stream",
     "text": [
      "1.1418404277486618\n"
     ]
    }
   ],
   "source": [
    "print(rmsle(y, oof))"
   ]
  },
  {
   "cell_type": "code",
   "execution_count": 11,
   "id": "66966d4e",
   "metadata": {
    "execution": {
     "iopub.execute_input": "2024-12-04T14:10:40.746811Z",
     "iopub.status.busy": "2024-12-04T14:10:40.746252Z",
     "iopub.status.idle": "2024-12-04T14:12:14.408725Z",
     "shell.execute_reply": "2024-12-04T14:12:14.407815Z"
    },
    "papermill": {
     "duration": 93.672309,
     "end_time": "2024-12-04T14:12:14.413895",
     "exception": false,
     "start_time": "2024-12-04T14:10:40.741586",
     "status": "completed"
    },
    "tags": []
   },
   "outputs": [
    {
     "data": {
      "text/plain": [
       "['cat_non_loged.pkl']"
      ]
     },
     "execution_count": 11,
     "metadata": {},
     "output_type": "execute_result"
    }
   ],
   "source": [
    "test_predictions = np.zeros(len(test))\n",
    "\n",
    "for model in models:\n",
    "    test_predictions += np.maximum(0, model.predict(test)) / len(models)\n",
    "\n",
    "\n",
    "sample['Premium Amount'] = test_predictions\n",
    "sample.to_csv('submission.csv', index = False)\n",
    "\n",
    "joblib.dump([oof,test_predictions],\"cat_non_loged.pkl\")"
   ]
  },
  {
   "cell_type": "code",
   "execution_count": 12,
   "id": "d8041c1d",
   "metadata": {},
   "outputs": [],
   "source": [
    "import winsound\n",
    "frequency = 2500  # Set Frequency To 2500 Hertz\n",
    "duration = 1000  # Set Duration To 1000 ms == 1 second\n",
    "winsound.Beep(frequency, duration)"
   ]
  },
  {
   "cell_type": "code",
   "execution_count": 22,
   "id": "86a12f94",
   "metadata": {},
   "outputs": [
    {
     "data": {
      "text/plain": [
       "array([1286.68366885, 1290.51494717, 1095.78766093, ..., 1148.49131115,\n",
       "       1412.46779348, 1085.89056324])"
      ]
     },
     "execution_count": 22,
     "metadata": {},
     "output_type": "execute_result"
    }
   ],
   "source": [
    "test_predictions.shape\n",
    "test_predictions"
   ]
  },
  {
   "cell_type": "code",
   "execution_count": 23,
   "id": "0665473f",
   "metadata": {},
   "outputs": [
    {
     "data": {
      "text/plain": [
       "array([1157.34922586,  986.69834566, 1107.17911711, ...,  549.76856307,\n",
       "       1232.3760534 ,  952.99334895])"
      ]
     },
     "execution_count": 23,
     "metadata": {},
     "output_type": "execute_result"
    }
   ],
   "source": [
    "oof.shape\n",
    "oof"
   ]
  },
  {
   "cell_type": "code",
   "execution_count": 25,
   "id": "6f84fc04",
   "metadata": {},
   "outputs": [],
   "source": [
    "non_log_oof, non_log_test = joblib.load(\n",
    "    '../kaggle/input/cat_non_loged_origin.pkl'\n",
    ")"
   ]
  },
  {
   "cell_type": "code",
   "execution_count": 3,
   "id": "05aff29d",
   "metadata": {},
   "outputs": [],
   "source": [
    "res=pd.read_pickle('../kaggle/input/cat_non_loged.pkl').values\n",
    "a=res[:-800000]\n",
    "b=res[-800000:]"
   ]
  },
  {
   "cell_type": "code",
   "execution_count": 6,
   "id": "31faf786",
   "metadata": {},
   "outputs": [
    {
     "data": {
      "text/plain": [
       "['cat_non_loged.pkl']"
      ]
     },
     "execution_count": 6,
     "metadata": {},
     "output_type": "execute_result"
    }
   ],
   "source": [
    "joblib.dump([a,b],\"cat_non_loged.pkl\")"
   ]
  },
  {
   "cell_type": "code",
   "execution_count": 26,
   "id": "c8740d40",
   "metadata": {},
   "outputs": [
    {
     "data": {
      "text/plain": [
       "array([1157.34922586,  986.69834566, 1107.17911711, ...,  549.76856307,\n",
       "       1232.3760534 ,  952.99334895])"
      ]
     },
     "execution_count": 26,
     "metadata": {},
     "output_type": "execute_result"
    }
   ],
   "source": [
    "oof"
   ]
  },
  {
   "cell_type": "code",
   "execution_count": 27,
   "id": "3f79f970",
   "metadata": {},
   "outputs": [
    {
     "data": {
      "text/plain": [
       "array([1198.81605661,  953.27201574, 1104.08346901, ...,  544.03830381,\n",
       "       1235.85765329,  968.17722088])"
      ]
     },
     "execution_count": 27,
     "metadata": {},
     "output_type": "execute_result"
    }
   ],
   "source": [
    "non_log_oof"
   ]
  },
  {
   "cell_type": "code",
   "execution_count": 28,
   "id": "fb447391",
   "metadata": {},
   "outputs": [
    {
     "data": {
      "text/plain": [
       "<Axes: >"
      ]
     },
     "execution_count": 28,
     "metadata": {},
     "output_type": "execute_result"
    },
    {
     "data": {
      "image/png": "[encoded data removed]",
      "text/plain": [
       "<Figure size 640x480 with 1 Axes>"
      ]
     },
     "metadata": {},
     "output_type": "display_data"
    }
   ],
   "source": [
    "m=pd.Series(np.hstack([oof, test_predictions]))#.to_pickle('cat_non_loged.pkl')\n",
    "o=pd.Series(np.hstack([non_log_oof, non_log_test]))#.to_pickle('cat_non_loged_origin.pkl')\n",
    "m.hist(bins=300)\n",
    "o.hist(bins=300)"
   ]
  },
  {
   "cell_type": "code",
   "execution_count": 14,
   "id": "00ad5c9c",
   "metadata": {},
   "outputs": [
    {
     "data": {
      "text/plain": [
       "<Axes: >"
      ]
     },
     "execution_count": 14,
     "metadata": {},
     "output_type": "execute_result"
    },
    {
     "data": {
      "image/png": "[encoded data removed]",
      "text/plain": [
       "<Figure size 640x480 with 1 Axes>"
      ]
     },
     "metadata": {},
     "output_type": "display_data"
    }
   ],
   "source": [
    "pd.Series(oof).hist(bins=100)"
   ]
  },
  {
   "cell_type": "code",
   "execution_count": null,
   "id": "70efe98d",
   "metadata": {},
   "outputs": [],
   "source": []
  }
 ],
 "metadata": {
  "kaggle": {
   "accelerator": "gpu",
   "dataSources": [
    {
     "databundleVersionId": 10305135,
     "sourceId": 84896,
     "sourceType": "competition"
    }
   ],
   "dockerImageVersionId": 30787,
   "isGpuEnabled": true,
   "isInternetEnabled": true,
   "language": "python",
   "sourceType": "notebook"
  },
  "kernelspec": {
   "display_name": ".venv",
   "language": "python",
   "name": "python3"
  },
  "language_info": {
   "codemirror_mode": {
    "name": "ipython",
    "version": 3
   },
   "file_extension": ".py",
   "mimetype": "text/x-python",
   "name": "python",
   "nbconvert_exporter": "python",
   "pygments_lexer": "ipython3",
   "version": "3.12.5"
  },
  "papermill": {
   "default_parameters": {},
   "duration": 873.0156,
   "end_time": "2024-12-04T14:12:16.840947",
   "environment_variables": {},
   "exception": null,
   "input_path": "__notebook__.ipynb",
   "output_path": "__notebook__.ipynb",
   "parameters": {},
   "start_time": "2024-12-04T13:57:43.825347",
   "version": "2.6.0"
  }
 },
 "nbformat": 4,
 "nbformat_minor": 5
}
