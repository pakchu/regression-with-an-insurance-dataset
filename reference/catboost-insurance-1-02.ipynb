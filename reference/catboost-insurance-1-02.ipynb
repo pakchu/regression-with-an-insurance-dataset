{
 "cells": [
  {
   "cell_type": "markdown",
   "id": "a8674224",
   "metadata": {
    "papermill": {
     "duration": 0.005345,
     "end_time": "2024-12-28T16:21:46.247073",
     "exception": false,
     "start_time": "2024-12-28T16:21:46.241728",
     "status": "completed"
    },
    "tags": []
   },
   "source": [
    "# Importing libraries and datasets"
   ]
  },
  {
   "cell_type": "code",
   "execution_count": 2,
   "id": "f9140a95",
   "metadata": {
    "execution": {
     "iopub.execute_input": "2024-12-28T16:21:46.257763Z",
     "iopub.status.busy": "2024-12-28T16:21:46.257431Z",
     "iopub.status.idle": "2024-12-28T16:21:48.144939Z",
     "shell.execute_reply": "2024-12-28T16:21:48.144207Z"
    },
    "papermill": {
     "duration": 1.894449,
     "end_time": "2024-12-28T16:21:48.146412",
     "exception": false,
     "start_time": "2024-12-28T16:21:46.251963",
     "status": "completed"
    },
    "tags": []
   },
   "outputs": [],
   "source": [
    "import numpy as np\n",
    "import pandas as pd\n",
    "import optuna\n",
    "import seaborn as sns\n",
    "import matplotlib.pyplot as plt\n",
    "import re\n",
    "import warnings\n",
    "\n",
    "warnings.filterwarnings('ignore')"
   ]
  },
  {
   "cell_type": "code",
   "execution_count": 4,
   "id": "46b65ab8",
   "metadata": {
    "execution": {
     "iopub.execute_input": "2024-12-28T16:21:48.156510Z",
     "iopub.status.busy": "2024-12-28T16:21:48.156169Z",
     "iopub.status.idle": "2024-12-28T16:21:58.579690Z",
     "shell.execute_reply": "2024-12-28T16:21:58.578723Z"
    },
    "papermill": {
     "duration": 10.430223,
     "end_time": "2024-12-28T16:21:58.581323",
     "exception": false,
     "start_time": "2024-12-28T16:21:48.151100",
     "status": "completed"
    },
    "tags": []
   },
   "outputs": [],
   "source": [
    "train = pd.read_csv('../kaggle/input/playground-series-s4e12/train.csv', index_col='id')\n",
    "test = pd.read_csv('../kaggle/input/playground-series-s4e12/test.csv', index_col='id')\n",
    "sample = pd.read_csv('../kaggle/input/playground-series-s4e12/sample_submission.csv')\n",
    "original = pd.read_csv('../kaggle/input//Insurance Premium Prediction Dataset.csv')"
   ]
  },
  {
   "cell_type": "code",
   "execution_count": 5,
   "id": "5f09c479",
   "metadata": {
    "execution": {
     "iopub.execute_input": "2024-12-28T16:21:58.591324Z",
     "iopub.status.busy": "2024-12-28T16:21:58.591051Z",
     "iopub.status.idle": "2024-12-28T16:21:58.596118Z",
     "shell.execute_reply": "2024-12-28T16:21:58.595339Z"
    },
    "papermill": {
     "duration": 0.011341,
     "end_time": "2024-12-28T16:21:58.597374",
     "exception": false,
     "start_time": "2024-12-28T16:21:58.586033",
     "status": "completed"
    },
    "tags": []
   },
   "outputs": [],
   "source": [
    "train.columns = train.columns.str.lower().str.replace(' ', '_')\n",
    "test.columns = test.columns.str.lower().str.replace(' ', '_')\n",
    "original.columns = original.columns.str.lower().str.replace(' ', '_')"
   ]
  },
  {
   "cell_type": "code",
   "execution_count": 8,
   "id": "71730165",
   "metadata": {},
   "outputs": [
    {
     "data": {
      "text/plain": [
       "0.9423330703578857"
      ]
     },
     "execution_count": 8,
     "metadata": {},
     "output_type": "execute_result"
    }
   ],
   "source": [
    "original.policy_start_date.isin(train.policy_start_date).sum() / len(original)"
   ]
  },
  {
   "cell_type": "code",
   "execution_count": 10,
   "id": "dbd9616a",
   "metadata": {},
   "outputs": [],
   "source": [
    "original = original[train.columns]"
   ]
  },
  {
   "cell_type": "code",
   "execution_count": 11,
   "id": "03d03fb7",
   "metadata": {},
   "outputs": [
    {
     "data": {
      "text/html": [
       "<div>\n",
       "<style scoped>\n",
       "    .dataframe tbody tr th:only-of-type {\n",
       "        vertical-align: middle;\n",
       "    }\n",
       "\n",
       "    .dataframe tbody tr th {\n",
       "        vertical-align: top;\n",
       "    }\n",
       "\n",
       "    .dataframe thead th {\n",
       "        text-align: right;\n",
       "    }\n",
       "</style>\n",
       "<table border=\"1\" class=\"dataframe\">\n",
       "  <thead>\n",
       "    <tr style=\"text-align: right;\">\n",
       "      <th></th>\n",
       "      <th>age</th>\n",
       "      <th>gender</th>\n",
       "      <th>annual_income</th>\n",
       "      <th>marital_status</th>\n",
       "      <th>number_of_dependents</th>\n",
       "      <th>education_level</th>\n",
       "      <th>occupation</th>\n",
       "      <th>health_score</th>\n",
       "      <th>location</th>\n",
       "      <th>policy_type</th>\n",
       "      <th>previous_claims</th>\n",
       "      <th>vehicle_age</th>\n",
       "      <th>credit_score</th>\n",
       "      <th>insurance_duration</th>\n",
       "      <th>policy_start_date</th>\n",
       "      <th>customer_feedback</th>\n",
       "      <th>smoking_status</th>\n",
       "      <th>exercise_frequency</th>\n",
       "      <th>property_type</th>\n",
       "      <th>premium_amount</th>\n",
       "    </tr>\n",
       "  </thead>\n",
       "  <tbody>\n",
       "    <tr>\n",
       "      <th>0</th>\n",
       "      <td>56.0</td>\n",
       "      <td>Male</td>\n",
       "      <td>99990.0</td>\n",
       "      <td>Married</td>\n",
       "      <td>1.0</td>\n",
       "      <td>Master's</td>\n",
       "      <td>NaN</td>\n",
       "      <td>31.074627</td>\n",
       "      <td>Urban</td>\n",
       "      <td>Comprehensive</td>\n",
       "      <td>NaN</td>\n",
       "      <td>13</td>\n",
       "      <td>320.0</td>\n",
       "      <td>5</td>\n",
       "      <td>2022-12-10 15:21:39.078837</td>\n",
       "      <td>Poor</td>\n",
       "      <td>Yes</td>\n",
       "      <td>Daily</td>\n",
       "      <td>Condo</td>\n",
       "      <td>308.0</td>\n",
       "    </tr>\n",
       "    <tr>\n",
       "      <th>1</th>\n",
       "      <td>46.0</td>\n",
       "      <td>Male</td>\n",
       "      <td>2867.0</td>\n",
       "      <td>Single</td>\n",
       "      <td>1.0</td>\n",
       "      <td>Bachelor's</td>\n",
       "      <td>NaN</td>\n",
       "      <td>50.271335</td>\n",
       "      <td>Urban</td>\n",
       "      <td>Comprehensive</td>\n",
       "      <td>NaN</td>\n",
       "      <td>3</td>\n",
       "      <td>694.0</td>\n",
       "      <td>4</td>\n",
       "      <td>2023-01-31 15:21:39.078837</td>\n",
       "      <td>Good</td>\n",
       "      <td>Yes</td>\n",
       "      <td>Monthly</td>\n",
       "      <td>House</td>\n",
       "      <td>517.0</td>\n",
       "    </tr>\n",
       "    <tr>\n",
       "      <th>2</th>\n",
       "      <td>32.0</td>\n",
       "      <td>Female</td>\n",
       "      <td>30154.0</td>\n",
       "      <td>Divorced</td>\n",
       "      <td>3.0</td>\n",
       "      <td>Bachelor's</td>\n",
       "      <td>NaN</td>\n",
       "      <td>14.714909</td>\n",
       "      <td>Suburban</td>\n",
       "      <td>Comprehensive</td>\n",
       "      <td>2.0</td>\n",
       "      <td>16</td>\n",
       "      <td>652.0</td>\n",
       "      <td>8</td>\n",
       "      <td>2023-11-26 15:21:39.078837</td>\n",
       "      <td>Poor</td>\n",
       "      <td>No</td>\n",
       "      <td>Monthly</td>\n",
       "      <td>House</td>\n",
       "      <td>849.0</td>\n",
       "    </tr>\n",
       "    <tr>\n",
       "      <th>3</th>\n",
       "      <td>60.0</td>\n",
       "      <td>Female</td>\n",
       "      <td>48371.0</td>\n",
       "      <td>Divorced</td>\n",
       "      <td>0.0</td>\n",
       "      <td>PhD</td>\n",
       "      <td>Self-Employed</td>\n",
       "      <td>25.346926</td>\n",
       "      <td>Rural</td>\n",
       "      <td>Comprehensive</td>\n",
       "      <td>1.0</td>\n",
       "      <td>11</td>\n",
       "      <td>330.0</td>\n",
       "      <td>7</td>\n",
       "      <td>2023-02-27 15:21:39.078837</td>\n",
       "      <td>Poor</td>\n",
       "      <td>No</td>\n",
       "      <td>Rarely</td>\n",
       "      <td>Condo</td>\n",
       "      <td>927.0</td>\n",
       "    </tr>\n",
       "    <tr>\n",
       "      <th>4</th>\n",
       "      <td>25.0</td>\n",
       "      <td>Female</td>\n",
       "      <td>54174.0</td>\n",
       "      <td>Divorced</td>\n",
       "      <td>0.0</td>\n",
       "      <td>High School</td>\n",
       "      <td>Self-Employed</td>\n",
       "      <td>6.659499</td>\n",
       "      <td>Urban</td>\n",
       "      <td>Comprehensive</td>\n",
       "      <td>NaN</td>\n",
       "      <td>9</td>\n",
       "      <td>NaN</td>\n",
       "      <td>8</td>\n",
       "      <td>2020-11-25 15:21:39.078837</td>\n",
       "      <td>Poor</td>\n",
       "      <td>No</td>\n",
       "      <td>Rarely</td>\n",
       "      <td>Condo</td>\n",
       "      <td>303.0</td>\n",
       "    </tr>\n",
       "    <tr>\n",
       "      <th>...</th>\n",
       "      <td>...</td>\n",
       "      <td>...</td>\n",
       "      <td>...</td>\n",
       "      <td>...</td>\n",
       "      <td>...</td>\n",
       "      <td>...</td>\n",
       "      <td>...</td>\n",
       "      <td>...</td>\n",
       "      <td>...</td>\n",
       "      <td>...</td>\n",
       "      <td>...</td>\n",
       "      <td>...</td>\n",
       "      <td>...</td>\n",
       "      <td>...</td>\n",
       "      <td>...</td>\n",
       "      <td>...</td>\n",
       "      <td>...</td>\n",
       "      <td>...</td>\n",
       "      <td>...</td>\n",
       "      <td>...</td>\n",
       "    </tr>\n",
       "    <tr>\n",
       "      <th>278855</th>\n",
       "      <td>53.0</td>\n",
       "      <td>Male</td>\n",
       "      <td>22594.0</td>\n",
       "      <td>Divorced</td>\n",
       "      <td>4.0</td>\n",
       "      <td>Master's</td>\n",
       "      <td>NaN</td>\n",
       "      <td>24.455533</td>\n",
       "      <td>Suburban</td>\n",
       "      <td>Premium</td>\n",
       "      <td>2.0</td>\n",
       "      <td>2</td>\n",
       "      <td>500.0</td>\n",
       "      <td>8</td>\n",
       "      <td>2022-04-26 15:21:39.291118</td>\n",
       "      <td>NaN</td>\n",
       "      <td>Yes</td>\n",
       "      <td>Daily</td>\n",
       "      <td>Apartment</td>\n",
       "      <td>367.0</td>\n",
       "    </tr>\n",
       "    <tr>\n",
       "      <th>278856</th>\n",
       "      <td>19.0</td>\n",
       "      <td>Female</td>\n",
       "      <td>NaN</td>\n",
       "      <td>Divorced</td>\n",
       "      <td>4.0</td>\n",
       "      <td>Master's</td>\n",
       "      <td>Unemployed</td>\n",
       "      <td>25.239104</td>\n",
       "      <td>Suburban</td>\n",
       "      <td>Basic</td>\n",
       "      <td>NaN</td>\n",
       "      <td>11</td>\n",
       "      <td>558.0</td>\n",
       "      <td>3</td>\n",
       "      <td>2022-11-13 15:21:39.291118</td>\n",
       "      <td>NaN</td>\n",
       "      <td>Yes</td>\n",
       "      <td>Monthly</td>\n",
       "      <td>Condo</td>\n",
       "      <td>3044.0</td>\n",
       "    </tr>\n",
       "    <tr>\n",
       "      <th>278857</th>\n",
       "      <td>45.0</td>\n",
       "      <td>Female</td>\n",
       "      <td>557.0</td>\n",
       "      <td>Single</td>\n",
       "      <td>1.0</td>\n",
       "      <td>Bachelor's</td>\n",
       "      <td>Self-Employed</td>\n",
       "      <td>62.112230</td>\n",
       "      <td>Rural</td>\n",
       "      <td>Premium</td>\n",
       "      <td>NaN</td>\n",
       "      <td>19</td>\n",
       "      <td>751.0</td>\n",
       "      <td>7</td>\n",
       "      <td>2021-01-20 15:21:39.291118</td>\n",
       "      <td>Poor</td>\n",
       "      <td>Yes</td>\n",
       "      <td>Weekly</td>\n",
       "      <td>Apartment</td>\n",
       "      <td>1334.0</td>\n",
       "    </tr>\n",
       "    <tr>\n",
       "      <th>278858</th>\n",
       "      <td>60.0</td>\n",
       "      <td>Male</td>\n",
       "      <td>4064.0</td>\n",
       "      <td>Single</td>\n",
       "      <td>4.0</td>\n",
       "      <td>Master's</td>\n",
       "      <td>Employed</td>\n",
       "      <td>6.163919</td>\n",
       "      <td>Rural</td>\n",
       "      <td>Premium</td>\n",
       "      <td>NaN</td>\n",
       "      <td>17</td>\n",
       "      <td>457.0</td>\n",
       "      <td>3</td>\n",
       "      <td>2024-01-14 15:21:39.291118</td>\n",
       "      <td>Average</td>\n",
       "      <td>Yes</td>\n",
       "      <td>Weekly</td>\n",
       "      <td>Apartment</td>\n",
       "      <td>662.0</td>\n",
       "    </tr>\n",
       "    <tr>\n",
       "      <th>278859</th>\n",
       "      <td>50.0</td>\n",
       "      <td>Female</td>\n",
       "      <td>66056.0</td>\n",
       "      <td>Divorced</td>\n",
       "      <td>1.0</td>\n",
       "      <td>PhD</td>\n",
       "      <td>Unemployed</td>\n",
       "      <td>25.962097</td>\n",
       "      <td>Rural</td>\n",
       "      <td>Premium</td>\n",
       "      <td>NaN</td>\n",
       "      <td>13</td>\n",
       "      <td>797.0</td>\n",
       "      <td>9</td>\n",
       "      <td>2021-02-03 15:21:39.291118</td>\n",
       "      <td>Poor</td>\n",
       "      <td>No</td>\n",
       "      <td>Daily</td>\n",
       "      <td>Apartment</td>\n",
       "      <td>1240.0</td>\n",
       "    </tr>\n",
       "  </tbody>\n",
       "</table>\n",
       "<p>278860 rows × 20 columns</p>\n",
       "</div>"
      ],
      "text/plain": [
       "         age  gender  annual_income marital_status  number_of_dependents  \\\n",
       "0       56.0    Male        99990.0        Married                   1.0   \n",
       "1       46.0    Male         2867.0         Single                   1.0   \n",
       "2       32.0  Female        30154.0       Divorced                   3.0   \n",
       "3       60.0  Female        48371.0       Divorced                   0.0   \n",
       "4       25.0  Female        54174.0       Divorced                   0.0   \n",
       "...      ...     ...            ...            ...                   ...   \n",
       "278855  53.0    Male        22594.0       Divorced                   4.0   \n",
       "278856  19.0  Female            NaN       Divorced                   4.0   \n",
       "278857  45.0  Female          557.0         Single                   1.0   \n",
       "278858  60.0    Male         4064.0         Single                   4.0   \n",
       "278859  50.0  Female        66056.0       Divorced                   1.0   \n",
       "\n",
       "       education_level     occupation  health_score  location    policy_type  \\\n",
       "0             Master's            NaN     31.074627     Urban  Comprehensive   \n",
       "1           Bachelor's            NaN     50.271335     Urban  Comprehensive   \n",
       "2           Bachelor's            NaN     14.714909  Suburban  Comprehensive   \n",
       "3                  PhD  Self-Employed     25.346926     Rural  Comprehensive   \n",
       "4          High School  Self-Employed      6.659499     Urban  Comprehensive   \n",
       "...                ...            ...           ...       ...            ...   \n",
       "278855        Master's            NaN     24.455533  Suburban        Premium   \n",
       "278856        Master's     Unemployed     25.239104  Suburban          Basic   \n",
       "278857      Bachelor's  Self-Employed     62.112230     Rural        Premium   \n",
       "278858        Master's       Employed      6.163919     Rural        Premium   \n",
       "278859             PhD     Unemployed     25.962097     Rural        Premium   \n",
       "\n",
       "        previous_claims  vehicle_age  credit_score  insurance_duration  \\\n",
       "0                   NaN           13         320.0                   5   \n",
       "1                   NaN            3         694.0                   4   \n",
       "2                   2.0           16         652.0                   8   \n",
       "3                   1.0           11         330.0                   7   \n",
       "4                   NaN            9           NaN                   8   \n",
       "...                 ...          ...           ...                 ...   \n",
       "278855              2.0            2         500.0                   8   \n",
       "278856              NaN           11         558.0                   3   \n",
       "278857              NaN           19         751.0                   7   \n",
       "278858              NaN           17         457.0                   3   \n",
       "278859              NaN           13         797.0                   9   \n",
       "\n",
       "                 policy_start_date customer_feedback smoking_status  \\\n",
       "0       2022-12-10 15:21:39.078837              Poor            Yes   \n",
       "1       2023-01-31 15:21:39.078837              Good            Yes   \n",
       "2       2023-11-26 15:21:39.078837              Poor             No   \n",
       "3       2023-02-27 15:21:39.078837              Poor             No   \n",
       "4       2020-11-25 15:21:39.078837              Poor             No   \n",
       "...                            ...               ...            ...   \n",
       "278855  2022-04-26 15:21:39.291118               NaN            Yes   \n",
       "278856  2022-11-13 15:21:39.291118               NaN            Yes   \n",
       "278857  2021-01-20 15:21:39.291118              Poor            Yes   \n",
       "278858  2024-01-14 15:21:39.291118           Average            Yes   \n",
       "278859  2021-02-03 15:21:39.291118              Poor             No   \n",
       "\n",
       "       exercise_frequency property_type  premium_amount  \n",
       "0                   Daily         Condo           308.0  \n",
       "1                 Monthly         House           517.0  \n",
       "2                 Monthly         House           849.0  \n",
       "3                  Rarely         Condo           927.0  \n",
       "4                  Rarely         Condo           303.0  \n",
       "...                   ...           ...             ...  \n",
       "278855              Daily     Apartment           367.0  \n",
       "278856            Monthly         Condo          3044.0  \n",
       "278857             Weekly     Apartment          1334.0  \n",
       "278858             Weekly     Apartment           662.0  \n",
       "278859              Daily     Apartment          1240.0  \n",
       "\n",
       "[278860 rows x 20 columns]"
      ]
     },
     "execution_count": 11,
     "metadata": {},
     "output_type": "execute_result"
    }
   ],
   "source": [
    "original"
   ]
  },
  {
   "cell_type": "code",
   "execution_count": 4,
   "id": "ae7f747f",
   "metadata": {
    "execution": {
     "iopub.execute_input": "2024-12-28T16:21:58.606598Z",
     "iopub.status.busy": "2024-12-28T16:21:58.606374Z",
     "iopub.status.idle": "2024-12-28T16:21:58.624974Z",
     "shell.execute_reply": "2024-12-28T16:21:58.624284Z"
    },
    "papermill": {
     "duration": 0.024742,
     "end_time": "2024-12-28T16:21:58.626361",
     "exception": false,
     "start_time": "2024-12-28T16:21:58.601619",
     "status": "completed"
    },
    "tags": []
   },
   "outputs": [
    {
     "data": {
      "text/html": [
       "<div>\n",
       "<style scoped>\n",
       "    .dataframe tbody tr th:only-of-type {\n",
       "        vertical-align: middle;\n",
       "    }\n",
       "\n",
       "    .dataframe tbody tr th {\n",
       "        vertical-align: top;\n",
       "    }\n",
       "\n",
       "    .dataframe thead th {\n",
       "        text-align: right;\n",
       "    }\n",
       "</style>\n",
       "<table border=\"1\" class=\"dataframe\">\n",
       "  <thead>\n",
       "    <tr style=\"text-align: right;\">\n",
       "      <th></th>\n",
       "      <th>age</th>\n",
       "      <th>gender</th>\n",
       "      <th>annual_income</th>\n",
       "      <th>marital_status</th>\n",
       "      <th>number_of_dependents</th>\n",
       "      <th>education_level</th>\n",
       "      <th>occupation</th>\n",
       "      <th>health_score</th>\n",
       "      <th>location</th>\n",
       "      <th>policy_type</th>\n",
       "      <th>previous_claims</th>\n",
       "      <th>vehicle_age</th>\n",
       "      <th>credit_score</th>\n",
       "      <th>insurance_duration</th>\n",
       "      <th>policy_start_date</th>\n",
       "      <th>customer_feedback</th>\n",
       "      <th>smoking_status</th>\n",
       "      <th>exercise_frequency</th>\n",
       "      <th>property_type</th>\n",
       "      <th>premium_amount</th>\n",
       "    </tr>\n",
       "    <tr>\n",
       "      <th>id</th>\n",
       "      <th></th>\n",
       "      <th></th>\n",
       "      <th></th>\n",
       "      <th></th>\n",
       "      <th></th>\n",
       "      <th></th>\n",
       "      <th></th>\n",
       "      <th></th>\n",
       "      <th></th>\n",
       "      <th></th>\n",
       "      <th></th>\n",
       "      <th></th>\n",
       "      <th></th>\n",
       "      <th></th>\n",
       "      <th></th>\n",
       "      <th></th>\n",
       "      <th></th>\n",
       "      <th></th>\n",
       "      <th></th>\n",
       "      <th></th>\n",
       "    </tr>\n",
       "  </thead>\n",
       "  <tbody>\n",
       "    <tr>\n",
       "      <th>0</th>\n",
       "      <td>19.0</td>\n",
       "      <td>Female</td>\n",
       "      <td>10049.0</td>\n",
       "      <td>Married</td>\n",
       "      <td>1.0</td>\n",
       "      <td>Bachelor's</td>\n",
       "      <td>Self-Employed</td>\n",
       "      <td>22.598761</td>\n",
       "      <td>Urban</td>\n",
       "      <td>Premium</td>\n",
       "      <td>2.0</td>\n",
       "      <td>17.0</td>\n",
       "      <td>372.0</td>\n",
       "      <td>5.0</td>\n",
       "      <td>2023-12-23 15:21:39.134960</td>\n",
       "      <td>Poor</td>\n",
       "      <td>No</td>\n",
       "      <td>Weekly</td>\n",
       "      <td>House</td>\n",
       "      <td>2869.0</td>\n",
       "    </tr>\n",
       "  </tbody>\n",
       "</table>\n",
       "</div>"
      ],
      "text/plain": [
       "     age  gender  annual_income marital_status  number_of_dependents  \\\n",
       "id                                                                     \n",
       "0   19.0  Female        10049.0        Married                   1.0   \n",
       "\n",
       "   education_level     occupation  health_score location policy_type  \\\n",
       "id                                                                     \n",
       "0       Bachelor's  Self-Employed     22.598761    Urban     Premium   \n",
       "\n",
       "    previous_claims  vehicle_age  credit_score  insurance_duration  \\\n",
       "id                                                                   \n",
       "0               2.0         17.0         372.0                 5.0   \n",
       "\n",
       "             policy_start_date customer_feedback smoking_status  \\\n",
       "id                                                                \n",
       "0   2023-12-23 15:21:39.134960              Poor             No   \n",
       "\n",
       "   exercise_frequency property_type  premium_amount  \n",
       "id                                                   \n",
       "0              Weekly         House          2869.0  "
      ]
     },
     "execution_count": 4,
     "metadata": {},
     "output_type": "execute_result"
    }
   ],
   "source": [
    "train.head(1) # target - premium_amount"
   ]
  },
  {
   "cell_type": "code",
   "execution_count": 5,
   "id": "340a5dd5",
   "metadata": {
    "execution": {
     "iopub.execute_input": "2024-12-28T16:21:58.636353Z",
     "iopub.status.busy": "2024-12-28T16:21:58.636110Z",
     "iopub.status.idle": "2024-12-28T16:21:59.191176Z",
     "shell.execute_reply": "2024-12-28T16:21:59.190362Z"
    },
    "papermill": {
     "duration": 0.561503,
     "end_time": "2024-12-28T16:21:59.192694",
     "exception": false,
     "start_time": "2024-12-28T16:21:58.631191",
     "status": "completed"
    },
    "tags": []
   },
   "outputs": [
    {
     "data": {
      "text/html": [
       "<div>\n",
       "<style scoped>\n",
       "    .dataframe tbody tr th:only-of-type {\n",
       "        vertical-align: middle;\n",
       "    }\n",
       "\n",
       "    .dataframe tbody tr th {\n",
       "        vertical-align: top;\n",
       "    }\n",
       "\n",
       "    .dataframe thead th {\n",
       "        text-align: right;\n",
       "    }\n",
       "</style>\n",
       "<table border=\"1\" class=\"dataframe\">\n",
       "  <thead>\n",
       "    <tr style=\"text-align: right;\">\n",
       "      <th></th>\n",
       "      <th>age</th>\n",
       "      <th>annual_income</th>\n",
       "      <th>number_of_dependents</th>\n",
       "      <th>health_score</th>\n",
       "      <th>previous_claims</th>\n",
       "      <th>vehicle_age</th>\n",
       "      <th>credit_score</th>\n",
       "      <th>insurance_duration</th>\n",
       "      <th>premium_amount</th>\n",
       "    </tr>\n",
       "  </thead>\n",
       "  <tbody>\n",
       "    <tr>\n",
       "      <th>count</th>\n",
       "      <td>1181295.00</td>\n",
       "      <td>1155051.00</td>\n",
       "      <td>1090328.00</td>\n",
       "      <td>1125924.00</td>\n",
       "      <td>835971.00</td>\n",
       "      <td>1199994.00</td>\n",
       "      <td>1062118.00</td>\n",
       "      <td>1199999.00</td>\n",
       "      <td>1200000.00</td>\n",
       "    </tr>\n",
       "    <tr>\n",
       "      <th>mean</th>\n",
       "      <td>41.15</td>\n",
       "      <td>32745.22</td>\n",
       "      <td>2.01</td>\n",
       "      <td>25.61</td>\n",
       "      <td>1.00</td>\n",
       "      <td>9.57</td>\n",
       "      <td>592.92</td>\n",
       "      <td>5.02</td>\n",
       "      <td>1102.54</td>\n",
       "    </tr>\n",
       "    <tr>\n",
       "      <th>std</th>\n",
       "      <td>13.54</td>\n",
       "      <td>32179.51</td>\n",
       "      <td>1.42</td>\n",
       "      <td>12.20</td>\n",
       "      <td>0.98</td>\n",
       "      <td>5.78</td>\n",
       "      <td>149.98</td>\n",
       "      <td>2.59</td>\n",
       "      <td>865.00</td>\n",
       "    </tr>\n",
       "    <tr>\n",
       "      <th>min</th>\n",
       "      <td>18.00</td>\n",
       "      <td>1.00</td>\n",
       "      <td>0.00</td>\n",
       "      <td>2.01</td>\n",
       "      <td>0.00</td>\n",
       "      <td>0.00</td>\n",
       "      <td>300.00</td>\n",
       "      <td>1.00</td>\n",
       "      <td>20.00</td>\n",
       "    </tr>\n",
       "    <tr>\n",
       "      <th>25%</th>\n",
       "      <td>30.00</td>\n",
       "      <td>8001.00</td>\n",
       "      <td>1.00</td>\n",
       "      <td>15.92</td>\n",
       "      <td>0.00</td>\n",
       "      <td>5.00</td>\n",
       "      <td>468.00</td>\n",
       "      <td>3.00</td>\n",
       "      <td>514.00</td>\n",
       "    </tr>\n",
       "    <tr>\n",
       "      <th>50%</th>\n",
       "      <td>41.00</td>\n",
       "      <td>23911.00</td>\n",
       "      <td>2.00</td>\n",
       "      <td>24.58</td>\n",
       "      <td>1.00</td>\n",
       "      <td>10.00</td>\n",
       "      <td>595.00</td>\n",
       "      <td>5.00</td>\n",
       "      <td>872.00</td>\n",
       "    </tr>\n",
       "    <tr>\n",
       "      <th>75%</th>\n",
       "      <td>53.00</td>\n",
       "      <td>44634.00</td>\n",
       "      <td>3.00</td>\n",
       "      <td>34.53</td>\n",
       "      <td>2.00</td>\n",
       "      <td>15.00</td>\n",
       "      <td>721.00</td>\n",
       "      <td>7.00</td>\n",
       "      <td>1509.00</td>\n",
       "    </tr>\n",
       "    <tr>\n",
       "      <th>max</th>\n",
       "      <td>64.00</td>\n",
       "      <td>149997.00</td>\n",
       "      <td>4.00</td>\n",
       "      <td>58.98</td>\n",
       "      <td>9.00</td>\n",
       "      <td>19.00</td>\n",
       "      <td>849.00</td>\n",
       "      <td>9.00</td>\n",
       "      <td>4999.00</td>\n",
       "    </tr>\n",
       "  </tbody>\n",
       "</table>\n",
       "</div>"
      ],
      "text/plain": [
       "              age  annual_income  number_of_dependents  health_score  \\\n",
       "count  1181295.00     1155051.00            1090328.00    1125924.00   \n",
       "mean        41.15       32745.22                  2.01         25.61   \n",
       "std         13.54       32179.51                  1.42         12.20   \n",
       "min         18.00           1.00                  0.00          2.01   \n",
       "25%         30.00        8001.00                  1.00         15.92   \n",
       "50%         41.00       23911.00                  2.00         24.58   \n",
       "75%         53.00       44634.00                  3.00         34.53   \n",
       "max         64.00      149997.00                  4.00         58.98   \n",
       "\n",
       "       previous_claims  vehicle_age  credit_score  insurance_duration  \\\n",
       "count        835971.00   1199994.00    1062118.00          1199999.00   \n",
       "mean              1.00         9.57        592.92                5.02   \n",
       "std               0.98         5.78        149.98                2.59   \n",
       "min               0.00         0.00        300.00                1.00   \n",
       "25%               0.00         5.00        468.00                3.00   \n",
       "50%               1.00        10.00        595.00                5.00   \n",
       "75%               2.00        15.00        721.00                7.00   \n",
       "max               9.00        19.00        849.00                9.00   \n",
       "\n",
       "       premium_amount  \n",
       "count      1200000.00  \n",
       "mean          1102.54  \n",
       "std            865.00  \n",
       "min             20.00  \n",
       "25%            514.00  \n",
       "50%            872.00  \n",
       "75%           1509.00  \n",
       "max           4999.00  "
      ]
     },
     "execution_count": 5,
     "metadata": {},
     "output_type": "execute_result"
    }
   ],
   "source": [
    "train.describe().round(2)"
   ]
  },
  {
   "cell_type": "markdown",
   "id": "c02f9434",
   "metadata": {
    "papermill": {
     "duration": 0.004716,
     "end_time": "2024-12-28T16:21:59.202887",
     "exception": false,
     "start_time": "2024-12-28T16:21:59.198171",
     "status": "completed"
    },
    "tags": []
   },
   "source": [
    "# Functions to work with features"
   ]
  },
  {
   "cell_type": "code",
   "execution_count": 12,
   "id": "654bc766",
   "metadata": {
    "execution": {
     "iopub.execute_input": "2024-12-28T16:21:59.212958Z",
     "iopub.status.busy": "2024-12-28T16:21:59.212729Z",
     "iopub.status.idle": "2024-12-28T16:21:59.220131Z",
     "shell.execute_reply": "2024-12-28T16:21:59.219465Z"
    },
    "papermill": {
     "duration": 0.013811,
     "end_time": "2024-12-28T16:21:59.221342",
     "exception": false,
     "start_time": "2024-12-28T16:21:59.207531",
     "status": "completed"
    },
    "tags": []
   },
   "outputs": [],
   "source": [
    "from datetime import timedelta\n",
    "\n",
    "def feature_transformer(df):\n",
    "\n",
    "    df['policy_start_date'] = pd.to_datetime(df['policy_start_date'])\n",
    "\n",
    "    df['year'] = df['policy_start_date'].dt.year\n",
    "    df['day'] = df['policy_start_date'].dt.day\n",
    "    df['month'] = df['policy_start_date'].dt.month\n",
    "    df['day_of_year'] = df['policy_start_date'].dt.dayofyear\n",
    "    df['day_of_week'] = df['policy_start_date'].dt.weekday\n",
    "    df['sin_day_of_week'] = np.sin(2 * np.pi * df['day_of_week'] / 7)\n",
    "    df['cos_day_of_week'] = np.cos(2 * np.pi * df['day_of_week'] / 7)\n",
    "    \n",
    "    df[\"seconds since 1970\"] = df['policy_start_date'].astype(\"int64\") // 10**9\n",
    "    \n",
    "    df['days_passed'] = (df['policy_start_date'].max() - df['policy_start_date']).dt.days\n",
    "    \n",
    "\n",
    "    policy_starts_min = df['policy_start_date'].min()  # 2019-08-17\n",
    "    year = policy_starts_min.year  \n",
    "    \n",
    "    if policy_starts_min >= pd.Timestamp(f'{year}-01-01'):\n",
    "        fiscal_year_start = pd.Timestamp(f'{year}-01-01')\n",
    "    else:\n",
    "        fiscal_year_start = pd.Timestamp(f'{year-1}-01-01')\n",
    "\n",
    "    \n",
    "    df['time_from_fiscal_year'] = (df['policy_start_date'] - fiscal_year_start).dt.days\n",
    "    df['seconds_from_fiscal_year'] = (df['policy_start_date'] - fiscal_year_start).dt.total_seconds()\n",
    "\n",
    "    new_date = policy_starts_min - timedelta(days=1)\n",
    "    df['time_from_first_policy'] = (df['policy_start_date'] - new_date).dt.days\n",
    "    \n",
    "    df['time_from_first_policy_seconds'] = (df['policy_start_date'] - new_date).dt.total_seconds()\n",
    "    \n",
    "    df['Days Passed'] = (df['policy_start_date'].max() - df['policy_start_date']).dt.days\n",
    "\n",
    "    df['claims_vs_duration'] = df['previous_claims'] / df['insurance_duration']\n",
    "    df['days_from_2019_crisis'] = (df['policy_start_date'] - pd.Timestamp('2019-01-01')).dt.days\n",
    "    df['revenue_per_dependent'] = (df['annual_income'] / df['number_of_dependents'] + 1)\n",
    "    df['ratio_of_doubts'] = (df['previous_claims'] + 1) / df['annual_income'] # NEW\n",
    "    \n",
    "\n",
    "    df.drop(columns=['time_from_first_policy', 'policy_start_date'], inplace=True)\n",
    "\n",
    "    return df"
   ]
  },
  {
   "cell_type": "code",
   "execution_count": 13,
   "id": "535b4021",
   "metadata": {
    "execution": {
     "iopub.execute_input": "2024-12-28T16:21:59.231644Z",
     "iopub.status.busy": "2024-12-28T16:21:59.231425Z",
     "iopub.status.idle": "2024-12-28T16:21:59.234442Z",
     "shell.execute_reply": "2024-12-28T16:21:59.233860Z"
    },
    "papermill": {
     "duration": 0.009471,
     "end_time": "2024-12-28T16:21:59.235689",
     "exception": false,
     "start_time": "2024-12-28T16:21:59.226218",
     "status": "completed"
    },
    "tags": []
   },
   "outputs": [],
   "source": [
    "def columns_imputer(df):\n",
    "    for c in df.columns:\n",
    "        df[f\"is_{c}_na\"] = df[c].isna().astype(int)\n",
    "\n",
    "    return df"
   ]
  },
  {
   "cell_type": "code",
   "execution_count": 14,
   "id": "18ab1ae1",
   "metadata": {
    "execution": {
     "iopub.execute_input": "2024-12-28T16:21:59.245666Z",
     "iopub.status.busy": "2024-12-28T16:21:59.245461Z",
     "iopub.status.idle": "2024-12-28T16:21:59.388757Z",
     "shell.execute_reply": "2024-12-28T16:21:59.387724Z"
    },
    "papermill": {
     "duration": 0.149838,
     "end_time": "2024-12-28T16:21:59.390245",
     "exception": false,
     "start_time": "2024-12-28T16:21:59.240407",
     "status": "completed"
    },
    "tags": []
   },
   "outputs": [
    {
     "name": "stdout",
     "output_type": "stream",
     "text": [
      "Column age has 0 zeros\n",
      "Column annual_income has 0 zeros\n",
      "Column number_of_dependents has 218124 zeros\n",
      "Column health_score has 0 zeros\n",
      "Column previous_claims has 305433 zeros\n",
      "Column vehicle_age has 61615 zeros\n",
      "Column credit_score has 0 zeros\n",
      "Column insurance_duration has 0 zeros\n"
     ]
    }
   ],
   "source": [
    "num_cols = ['age', 'annual_income', 'number_of_dependents', 'health_score','previous_claims', 'vehicle_age', 'credit_score', 'insurance_duration']\n",
    "\n",
    "for col in num_cols:\n",
    "    print(f\"Column {col} has {train[train[col] == 0].shape[0]} zeros\")"
   ]
  },
  {
   "cell_type": "code",
   "execution_count": 15,
   "id": "679b98bf",
   "metadata": {
    "execution": {
     "iopub.execute_input": "2024-12-28T16:21:59.400940Z",
     "iopub.status.busy": "2024-12-28T16:21:59.400711Z",
     "iopub.status.idle": "2024-12-28T16:21:59.404054Z",
     "shell.execute_reply": "2024-12-28T16:21:59.403475Z"
    },
    "papermill": {
     "duration": 0.009761,
     "end_time": "2024-12-28T16:21:59.405146",
     "exception": false,
     "start_time": "2024-12-28T16:21:59.395385",
     "status": "completed"
    },
    "tags": []
   },
   "outputs": [],
   "source": [
    "def num_to_cat(df):\n",
    "    global num_cols\n",
    "\n",
    "    for col in num_cols:\n",
    "        df[f\"cat_{col}\"] = df[col].astype('string')\n",
    "\n",
    "    return df"
   ]
  },
  {
   "cell_type": "code",
   "execution_count": 16,
   "id": "b7a80813",
   "metadata": {
    "execution": {
     "iopub.execute_input": "2024-12-28T16:21:59.415371Z",
     "iopub.status.busy": "2024-12-28T16:21:59.415118Z",
     "iopub.status.idle": "2024-12-28T16:21:59.417816Z",
     "shell.execute_reply": "2024-12-28T16:21:59.417203Z"
    },
    "papermill": {
     "duration": 0.009092,
     "end_time": "2024-12-28T16:21:59.419041",
     "exception": false,
     "start_time": "2024-12-28T16:21:59.409949",
     "status": "completed"
    },
    "tags": []
   },
   "outputs": [],
   "source": [
    "# for col in num_cols:\n",
    "#     sns.displot(train, x=col, kind=\"kde\")  \n",
    "#     plt.title(f\"Distribution of {col}\")\n",
    "#     plt.show()"
   ]
  },
  {
   "cell_type": "markdown",
   "id": "5bde9b1e",
   "metadata": {
    "papermill": {
     "duration": 0.004539,
     "end_time": "2024-12-28T16:21:59.428392",
     "exception": false,
     "start_time": "2024-12-28T16:21:59.423853",
     "status": "completed"
    },
    "tags": []
   },
   "source": [
    "# Model preparation"
   ]
  },
  {
   "cell_type": "code",
   "execution_count": 17,
   "id": "61a7e72d",
   "metadata": {
    "execution": {
     "iopub.execute_input": "2024-12-28T16:21:59.438621Z",
     "iopub.status.busy": "2024-12-28T16:21:59.438395Z",
     "iopub.status.idle": "2024-12-28T16:22:07.970682Z",
     "shell.execute_reply": "2024-12-28T16:22:07.969700Z"
    },
    "papermill": {
     "duration": 8.539362,
     "end_time": "2024-12-28T16:22:07.972477",
     "exception": false,
     "start_time": "2024-12-28T16:21:59.433115",
     "status": "completed"
    },
    "tags": []
   },
   "outputs": [],
   "source": [
    "X = train.drop('premium_amount', axis=1)\n",
    "y = train['premium_amount']\n",
    "\n",
    "y_log1p = np.log1p(y)\n",
    "\n",
    "\n",
    "cats = X.select_dtypes(exclude=['number']).columns.tolist()\n",
    "vars = X.select_dtypes(include=['number']).columns.tolist()\n",
    "X = columns_imputer(X)\n",
    "\n",
    "X[cats] = X[cats].fillna('None').astype('string')\n",
    "X[vars] = X[vars].fillna(-999).astype(float)\n",
    "\n",
    "X = feature_transformer(X)\n",
    "X = num_to_cat(X)\n",
    "#X = skewed_to_normal(X)"
   ]
  },
  {
   "cell_type": "code",
   "execution_count": 19,
   "id": "de533b6f",
   "metadata": {
    "execution": {
     "iopub.execute_input": "2024-12-28T16:22:07.983962Z",
     "iopub.status.busy": "2024-12-28T16:22:07.983692Z",
     "iopub.status.idle": "2024-12-28T16:22:08.540774Z",
     "shell.execute_reply": "2024-12-28T16:22:08.540068Z"
    },
    "papermill": {
     "duration": 0.564229,
     "end_time": "2024-12-28T16:22:08.542396",
     "exception": false,
     "start_time": "2024-12-28T16:22:07.978167",
     "status": "completed"
    },
    "tags": []
   },
   "outputs": [],
   "source": [
    "from sklearn.model_selection import KFold, train_test_split\n",
    "from sklearn.metrics import mean_squared_error, mean_squared_log_error\n",
    "from catboost import CatBoostRegressor, Pool\n",
    "\n",
    "class CatboostWithOptuna:\n",
    "    def __init__(self, X, y, n_folds=10, random_state=42, verbose=0, task_type='GPU', optuna_params=None):\n",
    "        self.X = X\n",
    "        self.y = y\n",
    "        self.n_folds = n_folds\n",
    "        self.random_state = random_state\n",
    "        self.verbose = verbose\n",
    "        self.task_type = task_type\n",
    "        self.best_model_params = {}\n",
    "\n",
    "        # Placeholders\n",
    "        self.oof_predictions = []  # Out-of-fold predictions\n",
    "        self.catboost_params_history = []  # История гиперпараметров\n",
    "        self.best_score = float('inf')  # Лучший результат\n",
    "\n",
    "    def _suggest_hyperparams(self, trial: optuna.Trial):\n",
    "        return {\n",
    "            'iterations' : trial.suggest_int('iterations', 400, 1000),\n",
    "            'learning_rate' : trial.suggest_float('learning_rate', 0.01, 0.4, log=True),\n",
    "            'depth' : trial.suggest_int('depth', 4, 9),\n",
    "            'l2_leaf_reg' : trial.suggest_float('l2_leaf_reg', 0.1, 1, log=True),\n",
    "            'loss_function' : trial.suggest_categorical('loss_function', ['RMSE']),\n",
    "            'random_strength' : trial.suggest_float('random_strength', 1e-3, 1, log=True),\n",
    "            'bagging_temperature' : trial.suggest_float('bagging_temperature', 1e-2, 1, log=True)\n",
    "        }\n",
    "    \n",
    "    def objective(self, trial):\n",
    "        \n",
    "        params = self._suggest_hyperparams(trial)\n",
    "\n",
    "        cat_features = self.X.select_dtypes(exclude='number').columns.tolist()\n",
    "\n",
    "        # K-fold CV\n",
    "        kf = KFold(n_splits=self.n_folds, shuffle=True, random_state=self.random_state)\n",
    "        fold_rmsle = []\n",
    "        oof_preds = np.zeros((self.X.shape[0]))\n",
    "\n",
    "        for fold, (train_index, val_index) in enumerate(kf.split(self.X)):\n",
    "            print(f\"Fold {fold + 1} out of {self.n_folds}\")\n",
    "\n",
    "            X_train, X_val = self.X.iloc[train_index], self.X.iloc[val_index]\n",
    "            y_train, y_val = self.y.iloc[train_index], self.y.iloc[val_index]\n",
    "\n",
    "            # Model creation \n",
    "            model = CatBoostRegressor(\n",
    "                iterations=params['iterations'],\n",
    "                learning_rate=params['learning_rate'],\n",
    "                depth=params['depth'],\n",
    "                l2_leaf_reg=params['l2_leaf_reg'],\n",
    "                loss_function=params['loss_function'],\n",
    "                random_strength=params['random_strength'],\n",
    "                bagging_temperature=params['bagging_temperature'],\n",
    "                verbose=0,\n",
    "                gpu_ram_part=0.95,\n",
    "                task_type=self.task_type\n",
    "            )\n",
    "            \n",
    "            model.fit(X_train, y_train, cat_features=cat_features)\n",
    "\n",
    "            val_pred = model.predict(X_val)\n",
    "\n",
    "            oof_preds[val_index] = val_pred\n",
    "\n",
    "            fold_rmsle.append(mean_squared_error(y_val, val_pred, squared=False))\n",
    "        \n",
    "        # save oof predictions\n",
    "        self.oof_predictions.append(oof_preds.copy())\n",
    "\n",
    "        mean_rmsle = np.mean(fold_rmsle)\n",
    "        self.catboost_params_history.append({**params, 'RMSE': mean_rmsle})\n",
    "\n",
    "        return mean_rmsle\n",
    "\n",
    "        \n",
    "\n",
    "\n",
    "    def optimize(self,n_trials=10):\n",
    "        study = optuna.create_study(direction='minimize')\n",
    "        study.optimize(self.objective, n_trials=n_trials)\n",
    "        self.best_model_params = study.best_params\n",
    "        self.best_score = study.best_value\n",
    "\n",
    "        return study\n",
    "\n",
    "    @property\n",
    "    def oof(self):\n",
    "        if not self.oof_predictions:\n",
    "            raise ValueError(\"No OOF preds available\")\n",
    "        return self.oof_predictions"
   ]
  },
  {
   "cell_type": "markdown",
   "id": "6dff0445",
   "metadata": {
    "papermill": {
     "duration": 0.004733,
     "end_time": "2024-12-28T16:22:08.552336",
     "exception": false,
     "start_time": "2024-12-28T16:22:08.547603",
     "status": "completed"
    },
    "tags": []
   },
   "source": [
    "# OOF PREDICTIONS AND HYPERPARAMETERS SEARCH"
   ]
  },
  {
   "cell_type": "code",
   "execution_count": 13,
   "id": "4d67ec14",
   "metadata": {
    "execution": {
     "iopub.execute_input": "2024-12-28T16:22:08.562648Z",
     "iopub.status.busy": "2024-12-28T16:22:08.562376Z",
     "iopub.status.idle": "2024-12-28T22:36:15.273239Z",
     "shell.execute_reply": "2024-12-28T22:36:15.272358Z"
    },
    "papermill": {
     "duration": 22446.730655,
     "end_time": "2024-12-28T22:36:15.287805",
     "exception": false,
     "start_time": "2024-12-28T16:22:08.557150",
     "status": "completed"
    },
    "tags": []
   },
   "outputs": [
    {
     "name": "stderr",
     "output_type": "stream",
     "text": [
      "[I 2024-12-30 22:49:37,586] A new study created in memory with name: no-name-2bbdae00-eaa5-43b6-bc2b-27898cd70f61\n"
     ]
    },
    {
     "name": "stdout",
     "output_type": "stream",
     "text": [
      "Fold 1 out of 5\n",
      "Fold 2 out of 5\n"
     ]
    }
   ],
   "source": [
    "y_log1p = np.log1p(y)\n",
    "\n",
    "hyperparam_search = CatboostWithOptuna(X, y_log1p, n_folds = 5)\n",
    "first_study = hyperparam_search.optimize(n_trials=40) # n_trials=50 is good"
   ]
  },
  {
   "cell_type": "code",
   "execution_count": 14,
   "id": "e51b696e",
   "metadata": {
    "execution": {
     "iopub.execute_input": "2024-12-28T22:36:15.317921Z",
     "iopub.status.busy": "2024-12-28T22:36:15.317663Z",
     "iopub.status.idle": "2024-12-28T22:36:17.797585Z",
     "shell.execute_reply": "2024-12-28T22:36:17.796638Z"
    },
    "papermill": {
     "duration": 2.496795,
     "end_time": "2024-12-28T22:36:17.799296",
     "exception": false,
     "start_time": "2024-12-28T22:36:15.302501",
     "status": "completed"
    },
    "tags": []
   },
   "outputs": [],
   "source": [
    "from sklearn.model_selection import train_test_split\n",
    "\n",
    "X_train, X_test, y_train, y_test = train_test_split(\n",
    "    X, y, test_size=0.2, random_state=42)\n",
    "\n",
    "y_train_log1p = np.log1p(y_train)\n",
    "y_test_log1p = np.log1p(y_test)"
   ]
  },
  {
   "cell_type": "code",
   "execution_count": 15,
   "id": "4bbf9773",
   "metadata": {
    "execution": {
     "iopub.execute_input": "2024-12-28T22:36:17.832257Z",
     "iopub.status.busy": "2024-12-28T22:36:17.832014Z",
     "iopub.status.idle": "2024-12-28T22:36:17.835029Z",
     "shell.execute_reply": "2024-12-28T22:36:17.834347Z"
    },
    "papermill": {
     "duration": 0.019703,
     "end_time": "2024-12-28T22:36:17.836141",
     "exception": false,
     "start_time": "2024-12-28T22:36:17.816438",
     "status": "completed"
    },
    "tags": []
   },
   "outputs": [],
   "source": [
    "# train_pool = Pool(X_train, y_train_log1p, feature_names = X_train.columns.tolist(), cat_features=cat_features)\n",
    "# test_pool = Pool(X_test, y_test_log1p, feature_names = X_test.columns.tolist(), cat_features=cat_features)\n",
    "\n",
    "\n",
    "# model = CatBoostRegressor(**first_study.best_params,\n",
    "#         random_state=42,\n",
    "#         task_type='GPU',\n",
    "#         verbose = 0,\n",
    "#         cat_features=cat_features)\n",
    "\n",
    "# model.fit(X_train, y_train)"
   ]
  },
  {
   "cell_type": "code",
   "execution_count": 16,
   "id": "e3c48a8d",
   "metadata": {
    "execution": {
     "iopub.execute_input": "2024-12-28T22:36:17.866111Z",
     "iopub.status.busy": "2024-12-28T22:36:17.865910Z",
     "iopub.status.idle": "2024-12-28T22:36:17.868726Z",
     "shell.execute_reply": "2024-12-28T22:36:17.868110Z"
    },
    "papermill": {
     "duration": 0.018941,
     "end_time": "2024-12-28T22:36:17.869859",
     "exception": false,
     "start_time": "2024-12-28T22:36:17.850918",
     "status": "completed"
    },
    "tags": []
   },
   "outputs": [],
   "source": [
    "# feature_importances = model.get_feature_importance(train_pool, type='FeatureImportance')\n",
    "# feature_names = X_train.columns\n",
    "\n",
    "\n",
    "# plt.figure(figsize=(20, 10))\n",
    "# sns.barplot(x=feature_importances, y=feature_names)\n",
    "# plt.title(\"Feature Importances\")\n",
    "# plt.show()"
   ]
  },
  {
   "cell_type": "code",
   "execution_count": 17,
   "id": "6370fddf",
   "metadata": {
    "execution": {
     "iopub.execute_input": "2024-12-28T22:36:17.899821Z",
     "iopub.status.busy": "2024-12-28T22:36:17.899606Z",
     "iopub.status.idle": "2024-12-28T22:36:18.271173Z",
     "shell.execute_reply": "2024-12-28T22:36:18.270293Z"
    },
    "papermill": {
     "duration": 0.388031,
     "end_time": "2024-12-28T22:36:18.272501",
     "exception": false,
     "start_time": "2024-12-28T22:36:17.884470",
     "status": "completed"
    },
    "tags": []
   },
   "outputs": [
    {
     "data": {
      "text/plain": [
       "1.0316888415327061"
      ]
     },
     "execution_count": 17,
     "metadata": {},
     "output_type": "execute_result"
    }
   ],
   "source": [
    "oof_preds = hyperparam_search.oof_predictions\n",
    "\n",
    "# Sum of predictions from all trials\n",
    "mean_squared_log_error(y, sum(np.expm1(oof_preds))/len(oof_preds), squared = False)"
   ]
  },
  {
   "cell_type": "code",
   "execution_count": 18,
   "id": "45a9210c",
   "metadata": {
    "execution": {
     "iopub.execute_input": "2024-12-28T22:36:18.304057Z",
     "iopub.status.busy": "2024-12-28T22:36:18.303817Z",
     "iopub.status.idle": "2024-12-28T22:36:18.308521Z",
     "shell.execute_reply": "2024-12-28T22:36:18.307849Z"
    },
    "papermill": {
     "duration": 0.021433,
     "end_time": "2024-12-28T22:36:18.309654",
     "exception": false,
     "start_time": "2024-12-28T22:36:18.288221",
     "status": "completed"
    },
    "tags": []
   },
   "outputs": [],
   "source": [
    "#Function for creating oof predictions (on test data)\n",
    "def cv_test_preds(X, y, X_test,n_folds=5):\n",
    "\n",
    "    folds = KFold(n_splits=n_folds, shuffle=True, random_state=42)\n",
    "    test_preds = []\n",
    "\n",
    "    for fold, (train_idx, val_idx) in enumerate(folds.split(X, y)):\n",
    "\n",
    "        X_train, y_train = X.iloc[train_idx], y.iloc[train_idx]\n",
    "\n",
    "        # Finding categorical features\n",
    "        cat_features = X_test.select_dtypes(exclude=['number']).columns.tolist()\n",
    "\n",
    "\n",
    "        model = CatBoostRegressor(**first_study.best_params,\n",
    "        random_state=42,\n",
    "        task_type='GPU',\n",
    "        verbose = 0,\n",
    "        cat_features=cat_features)\n",
    "        model.fit(X_train, y_train, cat_features=cat_features)\n",
    "\n",
    "        # Making predictions\n",
    "        test_preds.append(model.predict(X_test))\n",
    "\n",
    "    return test_preds"
   ]
  },
  {
   "cell_type": "code",
   "execution_count": 19,
   "id": "206f1914",
   "metadata": {
    "execution": {
     "iopub.execute_input": "2024-12-28T22:36:18.339919Z",
     "iopub.status.busy": "2024-12-28T22:36:18.339702Z",
     "iopub.status.idle": "2024-12-28T22:36:24.257525Z",
     "shell.execute_reply": "2024-12-28T22:36:24.256609Z"
    },
    "papermill": {
     "duration": 5.934698,
     "end_time": "2024-12-28T22:36:24.259107",
     "exception": false,
     "start_time": "2024-12-28T22:36:18.324409",
     "status": "completed"
    },
    "tags": []
   },
   "outputs": [],
   "source": [
    "X_test = test\n",
    "X_test = columns_imputer(X_test)\n",
    "\n",
    "cats = X_test.select_dtypes(exclude=['number']).columns.tolist()\n",
    "vars = X_test.select_dtypes(include=['number']).columns.tolist()\n",
    "\n",
    "X_test[cats] = X_test[cats].fillna('None').astype('string')\n",
    "X_test[vars] = X_test[vars].fillna(-999).astype(float)\n",
    "\n",
    "X_test = feature_transformer(X_test)\n",
    "X_test = num_to_cat(X_test)"
   ]
  },
  {
   "cell_type": "code",
   "execution_count": 20,
   "id": "5495a823",
   "metadata": {
    "execution": {
     "iopub.execute_input": "2024-12-28T22:36:24.291002Z",
     "iopub.status.busy": "2024-12-28T22:36:24.290739Z",
     "iopub.status.idle": "2024-12-28T22:48:34.882635Z",
     "shell.execute_reply": "2024-12-28T22:48:34.881890Z"
    },
    "papermill": {
     "duration": 730.609173,
     "end_time": "2024-12-28T22:48:34.884331",
     "exception": false,
     "start_time": "2024-12-28T22:36:24.275158",
     "status": "completed"
    },
    "tags": []
   },
   "outputs": [],
   "source": [
    "X_final_preds = cv_test_preds(X,y_log1p,X_test, n_folds = 5)\n",
    "\n",
    "preds = sum(np.expm1(X_final_preds))/len(X_final_preds)"
   ]
  },
  {
   "cell_type": "code",
   "execution_count": 21,
   "id": "3a47b4a1",
   "metadata": {
    "execution": {
     "iopub.execute_input": "2024-12-28T22:48:34.916378Z",
     "iopub.status.busy": "2024-12-28T22:48:34.916091Z",
     "iopub.status.idle": "2024-12-28T22:48:34.921167Z",
     "shell.execute_reply": "2024-12-28T22:48:34.920345Z"
    },
    "papermill": {
     "duration": 0.021913,
     "end_time": "2024-12-28T22:48:34.922558",
     "exception": false,
     "start_time": "2024-12-28T22:48:34.900645",
     "status": "completed"
    },
    "tags": []
   },
   "outputs": [],
   "source": [
    "def cv_test_preds(X, y, X_test, n_folds=5):\n",
    "    folds = KFold(n_splits=n_folds, shuffle=True, random_state=42)\n",
    "    test_preds = []\n",
    "\n",
    "    for fold, (train_idx, val_idx) in enumerate(folds.split(X, y)):\n",
    "        X_train, y_train = X.iloc[train_idx], y.iloc[train_idx]\n",
    "\n",
    "        cat_features = X.select_dtypes(exclude=['number']).columns.tolist()\n",
    "\n",
    "        model = CatBoostRegressor(\n",
    "            **first_study.best_params,\n",
    "            random_state=42,\n",
    "            task_type='GPU',\n",
    "            verbose=0,\n",
    "            cat_features=cat_features\n",
    "        )\n",
    "        model.fit(X_train, y_train, cat_features=cat_features)\n",
    "\n",
    "        test_preds.append(model.predict(X_test))\n",
    "\n",
    "    return test_preds"
   ]
  },
  {
   "cell_type": "code",
   "execution_count": 22,
   "id": "e750879c",
   "metadata": {
    "execution": {
     "iopub.execute_input": "2024-12-28T22:48:34.952947Z",
     "iopub.status.busy": "2024-12-28T22:48:34.952724Z",
     "iopub.status.idle": "2024-12-28T23:00:42.473935Z",
     "shell.execute_reply": "2024-12-28T23:00:42.473167Z"
    },
    "papermill": {
     "duration": 727.538449,
     "end_time": "2024-12-28T23:00:42.475836",
     "exception": false,
     "start_time": "2024-12-28T22:48:34.937387",
     "status": "completed"
    },
    "tags": []
   },
   "outputs": [],
   "source": [
    "X_final_preds = cv_test_preds(X, y_log1p, X_test, n_folds=5)\n",
    "\n",
    "preds = sum(np.expm1(X_final_preds))/len(X_final_preds)"
   ]
  },
  {
   "cell_type": "code",
   "execution_count": 23,
   "id": "b436e02f",
   "metadata": {
    "execution": {
     "iopub.execute_input": "2024-12-28T23:00:42.507749Z",
     "iopub.status.busy": "2024-12-28T23:00:42.507481Z",
     "iopub.status.idle": "2024-12-28T23:00:44.008600Z",
     "shell.execute_reply": "2024-12-28T23:00:44.007790Z"
    },
    "papermill": {
     "duration": 1.518113,
     "end_time": "2024-12-28T23:00:44.009911",
     "exception": false,
     "start_time": "2024-12-28T23:00:42.491798",
     "status": "completed"
    },
    "tags": []
   },
   "outputs": [
    {
     "name": "stdout",
     "output_type": "stream",
     "text": [
      "DONE!\n"
     ]
    }
   ],
   "source": [
    "sample_submission = pd.read_csv('/kaggle/input/playground-series-s4e12/sample_submission.csv')\n",
    "\n",
    "sample_submission['Premium Amount'] = preds\n",
    "sample_submission.to_csv(\"submission.csv\", index = False)\n",
    "\n",
    "print('DONE!')"
   ]
  }
 ],
 "metadata": {
  "kaggle": {
   "accelerator": "gpu",
   "dataSources": [
    {
     "databundleVersionId": 10305135,
     "sourceId": 84896,
     "sourceType": "competition"
    },
    {
     "datasetId": 5547076,
     "sourceId": 9178166,
     "sourceType": "datasetVersion"
    }
   ],
   "isGpuEnabled": true,
   "isInternetEnabled": true,
   "language": "python",
   "sourceType": "notebook"
  },
  "kernelspec": {
   "display_name": ".venv",
   "language": "python",
   "name": "python3"
  },
  "language_info": {
   "codemirror_mode": {
    "name": "ipython",
    "version": 3
   },
   "file_extension": ".py",
   "mimetype": "text/x-python",
   "name": "python",
   "nbconvert_exporter": "python",
   "pygments_lexer": "ipython3",
   "version": "3.12.5"
  },
  "papermill": {
   "default_parameters": {},
   "duration": 23941.81502,
   "end_time": "2024-12-28T23:00:45.973495",
   "environment_variables": {},
   "exception": null,
   "input_path": "__notebook__.ipynb",
   "output_path": "__notebook__.ipynb",
   "parameters": {},
   "start_time": "2024-12-28T16:21:44.158475",
   "version": "2.6.0"
  }
 },
 "nbformat": 4,
 "nbformat_minor": 5
}
